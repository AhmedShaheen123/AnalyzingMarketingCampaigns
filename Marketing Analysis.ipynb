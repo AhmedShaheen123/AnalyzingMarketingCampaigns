{
 "cells": [
  {
   "cell_type": "markdown",
   "id": "323df1c7",
   "metadata": {},
   "source": [
    "# Importing Library "
   ]
  },
  {
   "cell_type": "code",
   "execution_count": 41,
   "id": "02eec695",
   "metadata": {},
   "outputs": [],
   "source": [
    "import pandas as pd\n",
    "import numpy as np\n",
    "import os\n",
    "import matplotlib.pyplot as plt"
   ]
  },
  {
   "cell_type": "markdown",
   "id": "64d5e346",
   "metadata": {},
   "source": [
    "# Processing on the data"
   ]
  },
  {
   "cell_type": "code",
   "execution_count": 42,
   "id": "c4ffd424",
   "metadata": {},
   "outputs": [
    {
     "data": {
      "text/plain": [
       "['.ipynb_checkpoints',\n",
       " 'Marketing Analysis.ipynb',\n",
       " 'marketing.csv',\n",
       " 'marketing_new.csv']"
      ]
     },
     "execution_count": 42,
     "metadata": {},
     "output_type": "execute_result"
    }
   ],
   "source": [
    "os.listdir()"
   ]
  },
  {
   "cell_type": "markdown",
   "id": "2c48107d",
   "metadata": {},
   "source": [
    "### the next way is to import data and be care about date"
   ]
  },
  {
   "cell_type": "code",
   "execution_count": 43,
   "id": "017c4ee2",
   "metadata": {},
   "outputs": [
    {
     "data": {
      "text/html": [
       "<div>\n",
       "<style scoped>\n",
       "    .dataframe tbody tr th:only-of-type {\n",
       "        vertical-align: middle;\n",
       "    }\n",
       "\n",
       "    .dataframe tbody tr th {\n",
       "        vertical-align: top;\n",
       "    }\n",
       "\n",
       "    .dataframe thead th {\n",
       "        text-align: right;\n",
       "    }\n",
       "</style>\n",
       "<table border=\"1\" class=\"dataframe\">\n",
       "  <thead>\n",
       "    <tr style=\"text-align: right;\">\n",
       "      <th></th>\n",
       "      <th>user_id</th>\n",
       "      <th>date_served</th>\n",
       "      <th>marketing_channel</th>\n",
       "      <th>variant</th>\n",
       "      <th>converted</th>\n",
       "      <th>language_displayed</th>\n",
       "      <th>language_preferred</th>\n",
       "      <th>age_group</th>\n",
       "      <th>date_subscribed</th>\n",
       "      <th>date_canceled</th>\n",
       "      <th>subscribing_channel</th>\n",
       "      <th>is_retained</th>\n",
       "    </tr>\n",
       "  </thead>\n",
       "  <tbody>\n",
       "    <tr>\n",
       "      <th>0</th>\n",
       "      <td>a100000029</td>\n",
       "      <td>2018-01-01</td>\n",
       "      <td>House Ads</td>\n",
       "      <td>personalization</td>\n",
       "      <td>True</td>\n",
       "      <td>English</td>\n",
       "      <td>English</td>\n",
       "      <td>0-18 years</td>\n",
       "      <td>2018-01-01</td>\n",
       "      <td>NaT</td>\n",
       "      <td>House Ads</td>\n",
       "      <td>True</td>\n",
       "    </tr>\n",
       "    <tr>\n",
       "      <th>1</th>\n",
       "      <td>a100000030</td>\n",
       "      <td>2018-01-01</td>\n",
       "      <td>House Ads</td>\n",
       "      <td>personalization</td>\n",
       "      <td>True</td>\n",
       "      <td>English</td>\n",
       "      <td>English</td>\n",
       "      <td>19-24 years</td>\n",
       "      <td>2018-01-01</td>\n",
       "      <td>NaT</td>\n",
       "      <td>House Ads</td>\n",
       "      <td>True</td>\n",
       "    </tr>\n",
       "    <tr>\n",
       "      <th>2</th>\n",
       "      <td>a100000031</td>\n",
       "      <td>2018-01-01</td>\n",
       "      <td>House Ads</td>\n",
       "      <td>personalization</td>\n",
       "      <td>True</td>\n",
       "      <td>English</td>\n",
       "      <td>English</td>\n",
       "      <td>24-30 years</td>\n",
       "      <td>2018-01-01</td>\n",
       "      <td>NaT</td>\n",
       "      <td>House Ads</td>\n",
       "      <td>True</td>\n",
       "    </tr>\n",
       "    <tr>\n",
       "      <th>3</th>\n",
       "      <td>a100000032</td>\n",
       "      <td>2018-01-01</td>\n",
       "      <td>House Ads</td>\n",
       "      <td>personalization</td>\n",
       "      <td>True</td>\n",
       "      <td>English</td>\n",
       "      <td>English</td>\n",
       "      <td>30-36 years</td>\n",
       "      <td>2018-01-01</td>\n",
       "      <td>NaT</td>\n",
       "      <td>House Ads</td>\n",
       "      <td>True</td>\n",
       "    </tr>\n",
       "    <tr>\n",
       "      <th>4</th>\n",
       "      <td>a100000033</td>\n",
       "      <td>2018-01-01</td>\n",
       "      <td>House Ads</td>\n",
       "      <td>personalization</td>\n",
       "      <td>True</td>\n",
       "      <td>English</td>\n",
       "      <td>English</td>\n",
       "      <td>36-45 years</td>\n",
       "      <td>2018-01-01</td>\n",
       "      <td>NaT</td>\n",
       "      <td>House Ads</td>\n",
       "      <td>True</td>\n",
       "    </tr>\n",
       "  </tbody>\n",
       "</table>\n",
       "</div>"
      ],
      "text/plain": [
       "      user_id date_served marketing_channel          variant converted  \\\n",
       "0  a100000029  2018-01-01         House Ads  personalization      True   \n",
       "1  a100000030  2018-01-01         House Ads  personalization      True   \n",
       "2  a100000031  2018-01-01         House Ads  personalization      True   \n",
       "3  a100000032  2018-01-01         House Ads  personalization      True   \n",
       "4  a100000033  2018-01-01         House Ads  personalization      True   \n",
       "\n",
       "  language_displayed language_preferred    age_group date_subscribed  \\\n",
       "0            English            English   0-18 years      2018-01-01   \n",
       "1            English            English  19-24 years      2018-01-01   \n",
       "2            English            English  24-30 years      2018-01-01   \n",
       "3            English            English  30-36 years      2018-01-01   \n",
       "4            English            English  36-45 years      2018-01-01   \n",
       "\n",
       "  date_canceled subscribing_channel is_retained  \n",
       "0           NaT           House Ads        True  \n",
       "1           NaT           House Ads        True  \n",
       "2           NaT           House Ads        True  \n",
       "3           NaT           House Ads        True  \n",
       "4           NaT           House Ads        True  "
      ]
     },
     "execution_count": 43,
     "metadata": {},
     "output_type": "execute_result"
    }
   ],
   "source": [
    "mark = pd.read_csv('marketing.csv',parse_dates=['date_served','date_subscribed','date_canceled'])\n",
    "mark.head()"
   ]
  },
  {
   "cell_type": "code",
   "execution_count": 44,
   "id": "e34d435e",
   "metadata": {},
   "outputs": [
    {
     "name": "stdout",
     "output_type": "stream",
     "text": [
      "<class 'pandas.core.frame.DataFrame'>\n",
      "RangeIndex: 10037 entries, 0 to 10036\n",
      "Data columns (total 12 columns):\n",
      " #   Column               Non-Null Count  Dtype         \n",
      "---  ------               --------------  -----         \n",
      " 0   user_id              10037 non-null  object        \n",
      " 1   date_served          10021 non-null  datetime64[ns]\n",
      " 2   marketing_channel    10022 non-null  object        \n",
      " 3   variant              10037 non-null  object        \n",
      " 4   converted            10022 non-null  object        \n",
      " 5   language_displayed   10037 non-null  object        \n",
      " 6   language_preferred   10037 non-null  object        \n",
      " 7   age_group            10037 non-null  object        \n",
      " 8   date_subscribed      1856 non-null   datetime64[ns]\n",
      " 9   date_canceled        577 non-null    datetime64[ns]\n",
      " 10  subscribing_channel  1856 non-null   object        \n",
      " 11  is_retained          1856 non-null   object        \n",
      "dtypes: datetime64[ns](3), object(9)\n",
      "memory usage: 941.1+ KB\n"
     ]
    }
   ],
   "source": [
    "mark.info()"
   ]
  },
  {
   "cell_type": "code",
   "execution_count": 45,
   "id": "4ac86609",
   "metadata": {},
   "outputs": [],
   "source": [
    "mark['converted'] = mark['converted'].astype('bool')"
   ]
  },
  {
   "cell_type": "code",
   "execution_count": 46,
   "id": "d172c31b",
   "metadata": {},
   "outputs": [
    {
     "data": {
      "text/plain": [
       "dtype('bool')"
      ]
     },
     "execution_count": 46,
     "metadata": {},
     "output_type": "execute_result"
    }
   ],
   "source": [
    "mark['converted'].dtype"
   ]
  },
  {
   "cell_type": "code",
   "execution_count": 47,
   "id": "9a842527",
   "metadata": {},
   "outputs": [
    {
     "data": {
      "text/plain": [
       "array(['House Ads', 'Push', 'Facebook', 'Instagram', 'Email', nan],\n",
       "      dtype=object)"
      ]
     },
     "execution_count": 47,
     "metadata": {},
     "output_type": "execute_result"
    }
   ],
   "source": [
    "mark['marketing_channel'].unique()"
   ]
  },
  {
   "cell_type": "code",
   "execution_count": 48,
   "id": "b6c7dd75",
   "metadata": {},
   "outputs": [],
   "source": [
    "mark['is_hise_ads'] =np.where(mark['marketing_channel']=='House Ads',True,False)"
   ]
  },
  {
   "cell_type": "code",
   "execution_count": 49,
   "id": "fa7161c5",
   "metadata": {},
   "outputs": [
    {
     "data": {
      "text/html": [
       "<div>\n",
       "<style scoped>\n",
       "    .dataframe tbody tr th:only-of-type {\n",
       "        vertical-align: middle;\n",
       "    }\n",
       "\n",
       "    .dataframe tbody tr th {\n",
       "        vertical-align: top;\n",
       "    }\n",
       "\n",
       "    .dataframe thead th {\n",
       "        text-align: right;\n",
       "    }\n",
       "</style>\n",
       "<table border=\"1\" class=\"dataframe\">\n",
       "  <thead>\n",
       "    <tr style=\"text-align: right;\">\n",
       "      <th></th>\n",
       "      <th>user_id</th>\n",
       "      <th>date_served</th>\n",
       "      <th>marketing_channel</th>\n",
       "      <th>variant</th>\n",
       "      <th>converted</th>\n",
       "      <th>language_displayed</th>\n",
       "      <th>language_preferred</th>\n",
       "      <th>age_group</th>\n",
       "      <th>date_subscribed</th>\n",
       "      <th>date_canceled</th>\n",
       "      <th>subscribing_channel</th>\n",
       "      <th>is_retained</th>\n",
       "      <th>is_hise_ads</th>\n",
       "    </tr>\n",
       "  </thead>\n",
       "  <tbody>\n",
       "    <tr>\n",
       "      <th>0</th>\n",
       "      <td>a100000029</td>\n",
       "      <td>2018-01-01</td>\n",
       "      <td>House Ads</td>\n",
       "      <td>personalization</td>\n",
       "      <td>True</td>\n",
       "      <td>English</td>\n",
       "      <td>English</td>\n",
       "      <td>0-18 years</td>\n",
       "      <td>2018-01-01</td>\n",
       "      <td>NaT</td>\n",
       "      <td>House Ads</td>\n",
       "      <td>True</td>\n",
       "      <td>True</td>\n",
       "    </tr>\n",
       "    <tr>\n",
       "      <th>1</th>\n",
       "      <td>a100000030</td>\n",
       "      <td>2018-01-01</td>\n",
       "      <td>House Ads</td>\n",
       "      <td>personalization</td>\n",
       "      <td>True</td>\n",
       "      <td>English</td>\n",
       "      <td>English</td>\n",
       "      <td>19-24 years</td>\n",
       "      <td>2018-01-01</td>\n",
       "      <td>NaT</td>\n",
       "      <td>House Ads</td>\n",
       "      <td>True</td>\n",
       "      <td>True</td>\n",
       "    </tr>\n",
       "    <tr>\n",
       "      <th>2</th>\n",
       "      <td>a100000031</td>\n",
       "      <td>2018-01-01</td>\n",
       "      <td>House Ads</td>\n",
       "      <td>personalization</td>\n",
       "      <td>True</td>\n",
       "      <td>English</td>\n",
       "      <td>English</td>\n",
       "      <td>24-30 years</td>\n",
       "      <td>2018-01-01</td>\n",
       "      <td>NaT</td>\n",
       "      <td>House Ads</td>\n",
       "      <td>True</td>\n",
       "      <td>True</td>\n",
       "    </tr>\n",
       "    <tr>\n",
       "      <th>3</th>\n",
       "      <td>a100000032</td>\n",
       "      <td>2018-01-01</td>\n",
       "      <td>House Ads</td>\n",
       "      <td>personalization</td>\n",
       "      <td>True</td>\n",
       "      <td>English</td>\n",
       "      <td>English</td>\n",
       "      <td>30-36 years</td>\n",
       "      <td>2018-01-01</td>\n",
       "      <td>NaT</td>\n",
       "      <td>House Ads</td>\n",
       "      <td>True</td>\n",
       "      <td>True</td>\n",
       "    </tr>\n",
       "    <tr>\n",
       "      <th>4</th>\n",
       "      <td>a100000033</td>\n",
       "      <td>2018-01-01</td>\n",
       "      <td>House Ads</td>\n",
       "      <td>personalization</td>\n",
       "      <td>True</td>\n",
       "      <td>English</td>\n",
       "      <td>English</td>\n",
       "      <td>36-45 years</td>\n",
       "      <td>2018-01-01</td>\n",
       "      <td>NaT</td>\n",
       "      <td>House Ads</td>\n",
       "      <td>True</td>\n",
       "      <td>True</td>\n",
       "    </tr>\n",
       "  </tbody>\n",
       "</table>\n",
       "</div>"
      ],
      "text/plain": [
       "      user_id date_served marketing_channel          variant  converted  \\\n",
       "0  a100000029  2018-01-01         House Ads  personalization       True   \n",
       "1  a100000030  2018-01-01         House Ads  personalization       True   \n",
       "2  a100000031  2018-01-01         House Ads  personalization       True   \n",
       "3  a100000032  2018-01-01         House Ads  personalization       True   \n",
       "4  a100000033  2018-01-01         House Ads  personalization       True   \n",
       "\n",
       "  language_displayed language_preferred    age_group date_subscribed  \\\n",
       "0            English            English   0-18 years      2018-01-01   \n",
       "1            English            English  19-24 years      2018-01-01   \n",
       "2            English            English  24-30 years      2018-01-01   \n",
       "3            English            English  30-36 years      2018-01-01   \n",
       "4            English            English  36-45 years      2018-01-01   \n",
       "\n",
       "  date_canceled subscribing_channel is_retained  is_hise_ads  \n",
       "0           NaT           House Ads        True         True  \n",
       "1           NaT           House Ads        True         True  \n",
       "2           NaT           House Ads        True         True  \n",
       "3           NaT           House Ads        True         True  \n",
       "4           NaT           House Ads        True         True  "
      ]
     },
     "execution_count": 49,
     "metadata": {},
     "output_type": "execute_result"
    }
   ],
   "source": [
    "mark.head()"
   ]
  },
  {
   "cell_type": "code",
   "execution_count": 50,
   "id": "39be07e1",
   "metadata": {},
   "outputs": [
    {
     "data": {
      "text/plain": [
       "False    5304\n",
       "True     4733\n",
       "Name: is_hise_ads, dtype: int64"
      ]
     },
     "execution_count": 50,
     "metadata": {},
     "output_type": "execute_result"
    }
   ],
   "source": [
    "mark['is_hise_ads'].value_counts()"
   ]
  },
  {
   "cell_type": "markdown",
   "id": "b40c1dee",
   "metadata": {},
   "source": [
    "#### du to the way pandas stores data , in large dataset, it can be computationally inefficient to store columns of strings"
   ]
  },
  {
   "cell_type": "code",
   "execution_count": 51,
   "id": "4ab68947",
   "metadata": {},
   "outputs": [],
   "source": [
    "channnel_dict = {'House Ads':1,'Instagram':2,'Facebook':3,'Email':4,'Push':5}"
   ]
  },
  {
   "cell_type": "code",
   "execution_count": 52,
   "id": "96988a26",
   "metadata": {},
   "outputs": [],
   "source": [
    "mark['channel_code'] = mark['marketing_channel'].map(channnel_dict)"
   ]
  },
  {
   "cell_type": "code",
   "execution_count": 53,
   "id": "b2724b39",
   "metadata": {},
   "outputs": [],
   "source": [
    "mark['is_house_ads']=mark['is_hise_ads']"
   ]
  },
  {
   "cell_type": "code",
   "execution_count": 54,
   "id": "bac47889",
   "metadata": {},
   "outputs": [
    {
     "data": {
      "text/html": [
       "<div>\n",
       "<style scoped>\n",
       "    .dataframe tbody tr th:only-of-type {\n",
       "        vertical-align: middle;\n",
       "    }\n",
       "\n",
       "    .dataframe tbody tr th {\n",
       "        vertical-align: top;\n",
       "    }\n",
       "\n",
       "    .dataframe thead th {\n",
       "        text-align: right;\n",
       "    }\n",
       "</style>\n",
       "<table border=\"1\" class=\"dataframe\">\n",
       "  <thead>\n",
       "    <tr style=\"text-align: right;\">\n",
       "      <th></th>\n",
       "      <th>user_id</th>\n",
       "      <th>date_served</th>\n",
       "      <th>marketing_channel</th>\n",
       "      <th>variant</th>\n",
       "      <th>converted</th>\n",
       "      <th>language_displayed</th>\n",
       "      <th>language_preferred</th>\n",
       "      <th>age_group</th>\n",
       "      <th>date_subscribed</th>\n",
       "      <th>date_canceled</th>\n",
       "      <th>subscribing_channel</th>\n",
       "      <th>is_retained</th>\n",
       "      <th>channel_code</th>\n",
       "      <th>is_house_ads</th>\n",
       "    </tr>\n",
       "  </thead>\n",
       "  <tbody>\n",
       "    <tr>\n",
       "      <th>0</th>\n",
       "      <td>a100000029</td>\n",
       "      <td>2018-01-01</td>\n",
       "      <td>House Ads</td>\n",
       "      <td>personalization</td>\n",
       "      <td>True</td>\n",
       "      <td>English</td>\n",
       "      <td>English</td>\n",
       "      <td>0-18 years</td>\n",
       "      <td>2018-01-01</td>\n",
       "      <td>NaT</td>\n",
       "      <td>House Ads</td>\n",
       "      <td>True</td>\n",
       "      <td>1.0</td>\n",
       "      <td>True</td>\n",
       "    </tr>\n",
       "    <tr>\n",
       "      <th>1</th>\n",
       "      <td>a100000030</td>\n",
       "      <td>2018-01-01</td>\n",
       "      <td>House Ads</td>\n",
       "      <td>personalization</td>\n",
       "      <td>True</td>\n",
       "      <td>English</td>\n",
       "      <td>English</td>\n",
       "      <td>19-24 years</td>\n",
       "      <td>2018-01-01</td>\n",
       "      <td>NaT</td>\n",
       "      <td>House Ads</td>\n",
       "      <td>True</td>\n",
       "      <td>1.0</td>\n",
       "      <td>True</td>\n",
       "    </tr>\n",
       "    <tr>\n",
       "      <th>2</th>\n",
       "      <td>a100000031</td>\n",
       "      <td>2018-01-01</td>\n",
       "      <td>House Ads</td>\n",
       "      <td>personalization</td>\n",
       "      <td>True</td>\n",
       "      <td>English</td>\n",
       "      <td>English</td>\n",
       "      <td>24-30 years</td>\n",
       "      <td>2018-01-01</td>\n",
       "      <td>NaT</td>\n",
       "      <td>House Ads</td>\n",
       "      <td>True</td>\n",
       "      <td>1.0</td>\n",
       "      <td>True</td>\n",
       "    </tr>\n",
       "    <tr>\n",
       "      <th>3</th>\n",
       "      <td>a100000032</td>\n",
       "      <td>2018-01-01</td>\n",
       "      <td>House Ads</td>\n",
       "      <td>personalization</td>\n",
       "      <td>True</td>\n",
       "      <td>English</td>\n",
       "      <td>English</td>\n",
       "      <td>30-36 years</td>\n",
       "      <td>2018-01-01</td>\n",
       "      <td>NaT</td>\n",
       "      <td>House Ads</td>\n",
       "      <td>True</td>\n",
       "      <td>1.0</td>\n",
       "      <td>True</td>\n",
       "    </tr>\n",
       "    <tr>\n",
       "      <th>4</th>\n",
       "      <td>a100000033</td>\n",
       "      <td>2018-01-01</td>\n",
       "      <td>House Ads</td>\n",
       "      <td>personalization</td>\n",
       "      <td>True</td>\n",
       "      <td>English</td>\n",
       "      <td>English</td>\n",
       "      <td>36-45 years</td>\n",
       "      <td>2018-01-01</td>\n",
       "      <td>NaT</td>\n",
       "      <td>House Ads</td>\n",
       "      <td>True</td>\n",
       "      <td>1.0</td>\n",
       "      <td>True</td>\n",
       "    </tr>\n",
       "    <tr>\n",
       "      <th>...</th>\n",
       "      <td>...</td>\n",
       "      <td>...</td>\n",
       "      <td>...</td>\n",
       "      <td>...</td>\n",
       "      <td>...</td>\n",
       "      <td>...</td>\n",
       "      <td>...</td>\n",
       "      <td>...</td>\n",
       "      <td>...</td>\n",
       "      <td>...</td>\n",
       "      <td>...</td>\n",
       "      <td>...</td>\n",
       "      <td>...</td>\n",
       "      <td>...</td>\n",
       "    </tr>\n",
       "    <tr>\n",
       "      <th>10032</th>\n",
       "      <td>a100007290</td>\n",
       "      <td>2018-01-17</td>\n",
       "      <td>Email</td>\n",
       "      <td>control</td>\n",
       "      <td>True</td>\n",
       "      <td>German</td>\n",
       "      <td>German</td>\n",
       "      <td>45-55 years</td>\n",
       "      <td>2018-01-17</td>\n",
       "      <td>2018-01-24</td>\n",
       "      <td>Email</td>\n",
       "      <td>False</td>\n",
       "      <td>4.0</td>\n",
       "      <td>False</td>\n",
       "    </tr>\n",
       "    <tr>\n",
       "      <th>10033</th>\n",
       "      <td>a100007291</td>\n",
       "      <td>2018-01-17</td>\n",
       "      <td>Email</td>\n",
       "      <td>control</td>\n",
       "      <td>True</td>\n",
       "      <td>German</td>\n",
       "      <td>German</td>\n",
       "      <td>55+ years</td>\n",
       "      <td>2018-01-17</td>\n",
       "      <td>NaT</td>\n",
       "      <td>Email</td>\n",
       "      <td>True</td>\n",
       "      <td>4.0</td>\n",
       "      <td>False</td>\n",
       "    </tr>\n",
       "    <tr>\n",
       "      <th>10034</th>\n",
       "      <td>a100007292</td>\n",
       "      <td>2018-01-05</td>\n",
       "      <td>Instagram</td>\n",
       "      <td>control</td>\n",
       "      <td>False</td>\n",
       "      <td>German</td>\n",
       "      <td>German</td>\n",
       "      <td>55+ years</td>\n",
       "      <td>2018-01-17</td>\n",
       "      <td>NaT</td>\n",
       "      <td>Email</td>\n",
       "      <td>True</td>\n",
       "      <td>2.0</td>\n",
       "      <td>False</td>\n",
       "    </tr>\n",
       "    <tr>\n",
       "      <th>10035</th>\n",
       "      <td>a100007293</td>\n",
       "      <td>2018-01-17</td>\n",
       "      <td>Email</td>\n",
       "      <td>control</td>\n",
       "      <td>True</td>\n",
       "      <td>German</td>\n",
       "      <td>German</td>\n",
       "      <td>0-18 years</td>\n",
       "      <td>2018-01-17</td>\n",
       "      <td>NaT</td>\n",
       "      <td>Email</td>\n",
       "      <td>True</td>\n",
       "      <td>4.0</td>\n",
       "      <td>False</td>\n",
       "    </tr>\n",
       "    <tr>\n",
       "      <th>10036</th>\n",
       "      <td>a100007294</td>\n",
       "      <td>2018-01-06</td>\n",
       "      <td>Facebook</td>\n",
       "      <td>control</td>\n",
       "      <td>False</td>\n",
       "      <td>German</td>\n",
       "      <td>German</td>\n",
       "      <td>0-18 years</td>\n",
       "      <td>2018-01-17</td>\n",
       "      <td>NaT</td>\n",
       "      <td>Email</td>\n",
       "      <td>True</td>\n",
       "      <td>3.0</td>\n",
       "      <td>False</td>\n",
       "    </tr>\n",
       "  </tbody>\n",
       "</table>\n",
       "<p>10037 rows × 14 columns</p>\n",
       "</div>"
      ],
      "text/plain": [
       "          user_id date_served marketing_channel          variant  converted  \\\n",
       "0      a100000029  2018-01-01         House Ads  personalization       True   \n",
       "1      a100000030  2018-01-01         House Ads  personalization       True   \n",
       "2      a100000031  2018-01-01         House Ads  personalization       True   \n",
       "3      a100000032  2018-01-01         House Ads  personalization       True   \n",
       "4      a100000033  2018-01-01         House Ads  personalization       True   \n",
       "...           ...         ...               ...              ...        ...   \n",
       "10032  a100007290  2018-01-17             Email          control       True   \n",
       "10033  a100007291  2018-01-17             Email          control       True   \n",
       "10034  a100007292  2018-01-05         Instagram          control      False   \n",
       "10035  a100007293  2018-01-17             Email          control       True   \n",
       "10036  a100007294  2018-01-06          Facebook          control      False   \n",
       "\n",
       "      language_displayed language_preferred    age_group date_subscribed  \\\n",
       "0                English            English   0-18 years      2018-01-01   \n",
       "1                English            English  19-24 years      2018-01-01   \n",
       "2                English            English  24-30 years      2018-01-01   \n",
       "3                English            English  30-36 years      2018-01-01   \n",
       "4                English            English  36-45 years      2018-01-01   \n",
       "...                  ...                ...          ...             ...   \n",
       "10032             German             German  45-55 years      2018-01-17   \n",
       "10033             German             German    55+ years      2018-01-17   \n",
       "10034             German             German    55+ years      2018-01-17   \n",
       "10035             German             German   0-18 years      2018-01-17   \n",
       "10036             German             German   0-18 years      2018-01-17   \n",
       "\n",
       "      date_canceled subscribing_channel is_retained  channel_code  \\\n",
       "0               NaT           House Ads        True           1.0   \n",
       "1               NaT           House Ads        True           1.0   \n",
       "2               NaT           House Ads        True           1.0   \n",
       "3               NaT           House Ads        True           1.0   \n",
       "4               NaT           House Ads        True           1.0   \n",
       "...             ...                 ...         ...           ...   \n",
       "10032    2018-01-24               Email       False           4.0   \n",
       "10033           NaT               Email        True           4.0   \n",
       "10034           NaT               Email        True           2.0   \n",
       "10035           NaT               Email        True           4.0   \n",
       "10036           NaT               Email        True           3.0   \n",
       "\n",
       "       is_house_ads  \n",
       "0              True  \n",
       "1              True  \n",
       "2              True  \n",
       "3              True  \n",
       "4              True  \n",
       "...             ...  \n",
       "10032         False  \n",
       "10033         False  \n",
       "10034         False  \n",
       "10035         False  \n",
       "10036         False  \n",
       "\n",
       "[10037 rows x 14 columns]"
      ]
     },
     "execution_count": 54,
     "metadata": {},
     "output_type": "execute_result"
    }
   ],
   "source": [
    "mark.drop('is_hise_ads',axis=1)"
   ]
  },
  {
   "cell_type": "code",
   "execution_count": 55,
   "id": "505d70fb",
   "metadata": {},
   "outputs": [],
   "source": [
    "from datetime import datetime as dt\n",
    "mark['date_served']=pd.to_datetime(mark['date_served'])"
   ]
  },
  {
   "cell_type": "code",
   "execution_count": 56,
   "id": "fd4a4282",
   "metadata": {},
   "outputs": [],
   "source": [
    "mark['day_served']= mark['date_served'].dt.dayofweek"
   ]
  },
  {
   "cell_type": "code",
   "execution_count": 57,
   "id": "af0f360d",
   "metadata": {},
   "outputs": [
    {
     "data": {
      "text/html": [
       "<div>\n",
       "<style scoped>\n",
       "    .dataframe tbody tr th:only-of-type {\n",
       "        vertical-align: middle;\n",
       "    }\n",
       "\n",
       "    .dataframe tbody tr th {\n",
       "        vertical-align: top;\n",
       "    }\n",
       "\n",
       "    .dataframe thead th {\n",
       "        text-align: right;\n",
       "    }\n",
       "</style>\n",
       "<table border=\"1\" class=\"dataframe\">\n",
       "  <thead>\n",
       "    <tr style=\"text-align: right;\">\n",
       "      <th></th>\n",
       "      <th>user_id</th>\n",
       "      <th>date_served</th>\n",
       "      <th>marketing_channel</th>\n",
       "      <th>variant</th>\n",
       "      <th>converted</th>\n",
       "      <th>language_displayed</th>\n",
       "      <th>language_preferred</th>\n",
       "      <th>age_group</th>\n",
       "      <th>date_subscribed</th>\n",
       "      <th>date_canceled</th>\n",
       "      <th>subscribing_channel</th>\n",
       "      <th>is_retained</th>\n",
       "      <th>is_hise_ads</th>\n",
       "      <th>channel_code</th>\n",
       "      <th>is_house_ads</th>\n",
       "      <th>day_served</th>\n",
       "    </tr>\n",
       "  </thead>\n",
       "  <tbody>\n",
       "    <tr>\n",
       "      <th>0</th>\n",
       "      <td>a100000029</td>\n",
       "      <td>2018-01-01</td>\n",
       "      <td>House Ads</td>\n",
       "      <td>personalization</td>\n",
       "      <td>True</td>\n",
       "      <td>English</td>\n",
       "      <td>English</td>\n",
       "      <td>0-18 years</td>\n",
       "      <td>2018-01-01</td>\n",
       "      <td>NaT</td>\n",
       "      <td>House Ads</td>\n",
       "      <td>True</td>\n",
       "      <td>True</td>\n",
       "      <td>1.0</td>\n",
       "      <td>True</td>\n",
       "      <td>0.0</td>\n",
       "    </tr>\n",
       "    <tr>\n",
       "      <th>1</th>\n",
       "      <td>a100000030</td>\n",
       "      <td>2018-01-01</td>\n",
       "      <td>House Ads</td>\n",
       "      <td>personalization</td>\n",
       "      <td>True</td>\n",
       "      <td>English</td>\n",
       "      <td>English</td>\n",
       "      <td>19-24 years</td>\n",
       "      <td>2018-01-01</td>\n",
       "      <td>NaT</td>\n",
       "      <td>House Ads</td>\n",
       "      <td>True</td>\n",
       "      <td>True</td>\n",
       "      <td>1.0</td>\n",
       "      <td>True</td>\n",
       "      <td>0.0</td>\n",
       "    </tr>\n",
       "    <tr>\n",
       "      <th>2</th>\n",
       "      <td>a100000031</td>\n",
       "      <td>2018-01-01</td>\n",
       "      <td>House Ads</td>\n",
       "      <td>personalization</td>\n",
       "      <td>True</td>\n",
       "      <td>English</td>\n",
       "      <td>English</td>\n",
       "      <td>24-30 years</td>\n",
       "      <td>2018-01-01</td>\n",
       "      <td>NaT</td>\n",
       "      <td>House Ads</td>\n",
       "      <td>True</td>\n",
       "      <td>True</td>\n",
       "      <td>1.0</td>\n",
       "      <td>True</td>\n",
       "      <td>0.0</td>\n",
       "    </tr>\n",
       "    <tr>\n",
       "      <th>3</th>\n",
       "      <td>a100000032</td>\n",
       "      <td>2018-01-01</td>\n",
       "      <td>House Ads</td>\n",
       "      <td>personalization</td>\n",
       "      <td>True</td>\n",
       "      <td>English</td>\n",
       "      <td>English</td>\n",
       "      <td>30-36 years</td>\n",
       "      <td>2018-01-01</td>\n",
       "      <td>NaT</td>\n",
       "      <td>House Ads</td>\n",
       "      <td>True</td>\n",
       "      <td>True</td>\n",
       "      <td>1.0</td>\n",
       "      <td>True</td>\n",
       "      <td>0.0</td>\n",
       "    </tr>\n",
       "    <tr>\n",
       "      <th>4</th>\n",
       "      <td>a100000033</td>\n",
       "      <td>2018-01-01</td>\n",
       "      <td>House Ads</td>\n",
       "      <td>personalization</td>\n",
       "      <td>True</td>\n",
       "      <td>English</td>\n",
       "      <td>English</td>\n",
       "      <td>36-45 years</td>\n",
       "      <td>2018-01-01</td>\n",
       "      <td>NaT</td>\n",
       "      <td>House Ads</td>\n",
       "      <td>True</td>\n",
       "      <td>True</td>\n",
       "      <td>1.0</td>\n",
       "      <td>True</td>\n",
       "      <td>0.0</td>\n",
       "    </tr>\n",
       "  </tbody>\n",
       "</table>\n",
       "</div>"
      ],
      "text/plain": [
       "      user_id date_served marketing_channel          variant  converted  \\\n",
       "0  a100000029  2018-01-01         House Ads  personalization       True   \n",
       "1  a100000030  2018-01-01         House Ads  personalization       True   \n",
       "2  a100000031  2018-01-01         House Ads  personalization       True   \n",
       "3  a100000032  2018-01-01         House Ads  personalization       True   \n",
       "4  a100000033  2018-01-01         House Ads  personalization       True   \n",
       "\n",
       "  language_displayed language_preferred    age_group date_subscribed  \\\n",
       "0            English            English   0-18 years      2018-01-01   \n",
       "1            English            English  19-24 years      2018-01-01   \n",
       "2            English            English  24-30 years      2018-01-01   \n",
       "3            English            English  30-36 years      2018-01-01   \n",
       "4            English            English  36-45 years      2018-01-01   \n",
       "\n",
       "  date_canceled subscribing_channel is_retained  is_hise_ads  channel_code  \\\n",
       "0           NaT           House Ads        True         True           1.0   \n",
       "1           NaT           House Ads        True         True           1.0   \n",
       "2           NaT           House Ads        True         True           1.0   \n",
       "3           NaT           House Ads        True         True           1.0   \n",
       "4           NaT           House Ads        True         True           1.0   \n",
       "\n",
       "   is_house_ads  day_served  \n",
       "0          True         0.0  \n",
       "1          True         0.0  \n",
       "2          True         0.0  \n",
       "3          True         0.0  \n",
       "4          True         0.0  "
      ]
     },
     "execution_count": 57,
     "metadata": {},
     "output_type": "execute_result"
    }
   ],
   "source": [
    "mark.head()"
   ]
  },
  {
   "cell_type": "markdown",
   "id": "879f7247",
   "metadata": {},
   "source": [
    "### aggregate user that see ads"
   ]
  },
  {
   "cell_type": "code",
   "execution_count": 58,
   "id": "7b845b3e",
   "metadata": {},
   "outputs": [
    {
     "name": "stdout",
     "output_type": "stream",
     "text": [
      "date_served\n",
      "2018-01-01    362\n",
      "2018-01-02    374\n",
      "2018-01-03    348\n",
      "2018-01-04    323\n",
      "2018-01-05    319\n",
      "2018-01-06    308\n",
      "2018-01-07    275\n",
      "2018-01-08    312\n",
      "2018-01-09    312\n",
      "2018-01-10    337\n",
      "2018-01-11    310\n",
      "2018-01-12    301\n",
      "2018-01-13    306\n",
      "2018-01-14    305\n",
      "2018-01-15    767\n",
      "2018-01-16    388\n",
      "2018-01-17    369\n",
      "2018-01-18    318\n",
      "2018-01-19    305\n",
      "2018-01-20    311\n",
      "2018-01-21    229\n",
      "2018-01-22    178\n",
      "2018-01-23    172\n",
      "2018-01-24    190\n",
      "2018-01-25    184\n",
      "2018-01-26    222\n",
      "2018-01-27    320\n",
      "2018-01-28    320\n",
      "2018-01-29    319\n",
      "2018-01-30    317\n",
      "2018-01-31    340\n",
      "Name: user_id, dtype: int64\n"
     ]
    }
   ],
   "source": [
    "daily_user = mark.groupby('date_served')['user_id'].nunique()\n",
    "print(daily_user)"
   ]
  },
  {
   "cell_type": "code",
   "execution_count": 59,
   "id": "a0952c96",
   "metadata": {},
   "outputs": [
    {
     "data": {
      "image/png": "[encoded data removed]",
      "text/plain": [
       "<Figure size 432x288 with 1 Axes>"
      ]
     },
     "metadata": {
      "needs_background": "light"
     },
     "output_type": "display_data"
    }
   ],
   "source": [
    "daily_user.plot()\n",
    "plt.title('Daily number of users who see ads')\n",
    "plt.xlabel('Date')\n",
    "plt.ylabel('Number of Users')\n",
    "plt.xticks(rotation = 45)\n",
    "plt.show()"
   ]
  },
  {
   "cell_type": "code",
   "execution_count": 60,
   "id": "6542706b",
   "metadata": {},
   "outputs": [
    {
     "name": "stdout",
     "output_type": "stream",
     "text": [
      "marketing_channel\n",
      "Email         553\n",
      "Facebook     1758\n",
      "House Ads    3968\n",
      "Instagram    1740\n",
      "Push          972\n",
      "Name: user_id, dtype: int64\n"
     ]
    }
   ],
   "source": [
    "the_way_of_mark = mark.groupby('marketing_channel')['user_id'].nunique()\n",
    "print(the_way_of_mark)"
   ]
  },
  {
   "cell_type": "markdown",
   "id": "cfe5a2d2",
   "metadata": {},
   "source": [
    "### here we will see what is the reason of the big seen in day 15"
   ]
  },
  {
   "cell_type": "code",
   "execution_count": 61,
   "id": "b9f29688",
   "metadata": {},
   "outputs": [],
   "source": [
    "da15 = mark.loc[mark['date_served']=='2018-01-15']"
   ]
  },
  {
   "cell_type": "code",
   "execution_count": 62,
   "id": "d2d70c3b",
   "metadata": {},
   "outputs": [
    {
     "name": "stdout",
     "output_type": "stream",
     "text": [
      "marketing_channel\n",
      "Email        407\n",
      "Facebook      67\n",
      "House Ads    205\n",
      "Instagram     64\n",
      "Push          36\n",
      "Name: user_id, dtype: int64\n"
     ]
    }
   ],
   "source": [
    "count_dal5 = da15.groupby('marketing_channel')['user_id'].nunique()\n",
    "print(count_dal5)"
   ]
  },
  {
   "cell_type": "markdown",
   "id": "77f5ca04",
   "metadata": {},
   "source": [
    "## conversion rate = number of people of who conver / total number of people who marketed to"
   ]
  },
  {
   "cell_type": "code",
   "execution_count": 63,
   "id": "27b38239",
   "metadata": {},
   "outputs": [
    {
     "name": "stdout",
     "output_type": "stream",
     "text": [
      "1030\n"
     ]
    }
   ],
   "source": [
    "subscribers = mark[mark['converted']==True]['user_id'].nunique()\n",
    "print(subscribers)"
   ]
  },
  {
   "cell_type": "markdown",
   "id": "b862b6a8",
   "metadata": {},
   "source": [
    "### calaculate the total number of people we marketed to "
   ]
  },
  {
   "cell_type": "code",
   "execution_count": 64,
   "id": "8bcac854",
   "metadata": {},
   "outputs": [
    {
     "name": "stdout",
     "output_type": "stream",
     "text": [
      "7309\n"
     ]
    }
   ],
   "source": [
    "total = mark['user_id'].nunique()\n",
    "print(total)"
   ]
  },
  {
   "cell_type": "markdown",
   "id": "8910856e",
   "metadata": {},
   "source": [
    "### calcualte conversion rate"
   ]
  },
  {
   "cell_type": "code",
   "execution_count": 65,
   "id": "de560f45",
   "metadata": {},
   "outputs": [
    {
     "name": "stdout",
     "output_type": "stream",
     "text": [
      "14 %\n"
     ]
    }
   ],
   "source": [
    "conversion_rate = (subscribers/total)*100\n",
    "print(round(conversion_rate),'%')"
   ]
  },
  {
   "cell_type": "markdown",
   "id": "44ff2e09",
   "metadata": {},
   "source": [
    "# rateined rate = people who remain subscribed / total number of people who converted"
   ]
  },
  {
   "cell_type": "code",
   "execution_count": 66,
   "id": "542403e0",
   "metadata": {},
   "outputs": [
    {
     "name": "stdout",
     "output_type": "stream",
     "text": [
      "65.8252427184466 %\n"
     ]
    }
   ],
   "source": [
    "ratained = mark[mark['is_retained']==True]['user_id'].nunique()\n",
    "subscribers = mark[mark['converted']==True]['user_id'].nunique()\n",
    "retention = (ratained/subscribers)*100\n",
    "print(retention,'%')"
   ]
  },
  {
   "cell_type": "markdown",
   "id": "f10f9c0e",
   "metadata": {},
   "source": [
    "# we can segment the user by many segmentation like age gender or channels"
   ]
  },
  {
   "cell_type": "markdown",
   "id": "de5df210",
   "metadata": {},
   "source": [
    "#### here we will use audience who use house ads "
   ]
  },
  {
   "cell_type": "code",
   "execution_count": 67,
   "id": "abfd52c5",
   "metadata": {},
   "outputs": [
    {
     "data": {
      "text/plain": [
       "(4733, 16)"
      ]
     },
     "execution_count": 67,
     "metadata": {},
     "output_type": "execute_result"
    }
   ],
   "source": [
    "house_ads = mark[mark['marketing_channel']=='House Ads']\n",
    "house_ads.shape"
   ]
  },
  {
   "cell_type": "code",
   "execution_count": 68,
   "id": "f3b424ea",
   "metadata": {},
   "outputs": [
    {
     "name": "stdout",
     "output_type": "stream",
     "text": [
      "378\n",
      "298\n",
      "8 %\n",
      "+++++++++++++++++++++++++++++++++++++++++++\n",
      "126.84563758389262 %\n"
     ]
    }
   ],
   "source": [
    "#we calculate the conversion rate and ratention rate also for this segment\n",
    "total = house_ads['user_id'].nunique()\n",
    "ratained = house_ads[house_ads['is_retained']==True]['user_id'].nunique()\n",
    "print(ratained)\n",
    "subscribers = house_ads[house_ads['converted']==True]['user_id'].nunique()\n",
    "print(subscribers)\n",
    "conversion_rate = (subscribers/total)*100\n",
    "print(round(conversion_rate),'%')\n",
    "print('+++++++++++++++++++++++++++++++++++++++++++')\n",
    "retention = (ratained/subscribers)*100\n",
    "print(retention,'%')"
   ]
  },
  {
   "cell_type": "code",
   "execution_count": 69,
   "id": "c25270d0",
   "metadata": {},
   "outputs": [],
   "source": [
    "retained_group = mark[mark['is_retained']==True].groupby('marketing_channel')['user_id'].nunique()\n",
    "subscribes_group = mark[mark['converted']==True].groupby('marketing_channel')['user_id'].nunique()"
   ]
  },
  {
   "cell_type": "code",
   "execution_count": 70,
   "id": "3cf84b00",
   "metadata": {},
   "outputs": [
    {
     "data": {
      "text/plain": [
       "marketing_channel\n",
       "Email         74.331551\n",
       "Facebook      95.475113\n",
       "House Ads    126.845638\n",
       "Instagram     85.344828\n",
       "Push         123.376623\n",
       "Name: user_id, dtype: float64"
      ]
     },
     "execution_count": 70,
     "metadata": {},
     "output_type": "execute_result"
    }
   ],
   "source": [
    "cahnnel_retantion_rate = (retained_group/subscribes_group)*100\n",
    "cahnnel_retantion_rate"
   ]
  },
  {
   "cell_type": "code",
   "execution_count": 71,
   "id": "b58389fb",
   "metadata": {},
   "outputs": [],
   "source": [
    "marketing = mark"
   ]
  },
  {
   "cell_type": "code",
   "execution_count": 72,
   "id": "f3a99588",
   "metadata": {},
   "outputs": [
    {
     "name": "stdout",
     "output_type": "stream",
     "text": [
      "English speaker conversion rate: 13.13 %\n"
     ]
    }
   ],
   "source": [
    "# Isolate english speakers\n",
    "english_speakers = marketing[marketing['language_displayed'] == 'English']\n",
    "\n",
    "# Calculate the total number of English speaking users\n",
    "total = english_speakers['user_id'].nunique()\n",
    "\n",
    "# Calculate the number of English speakers who converted\n",
    "subscribers = english_speakers[english_speakers['converted']==True]['user_id'].nunique()\n",
    "\n",
    "# Calculate conversion rate\n",
    "conversion_rate = subscribers/total\n",
    "print('English speaker conversion rate:', round(conversion_rate*100,2), '%')"
   ]
  },
  {
   "cell_type": "code",
   "execution_count": 73,
   "id": "55219bed",
   "metadata": {},
   "outputs": [
    {
     "name": "stdout",
     "output_type": "stream",
     "text": [
      "language_displayed\n",
      "Arabic     0.500000\n",
      "English    0.131260\n",
      "German     0.716216\n",
      "Spanish    0.200000\n",
      "Name: user_id, dtype: float64\n"
     ]
    }
   ],
   "source": [
    "# Group by language_displayed and count unique users\n",
    "total = marketing.groupby(['language_displayed'])\\\n",
    "                                  ['user_id'].nunique()\n",
    "\n",
    "# Group by language_displayed and count unique conversions\n",
    "subscribers = marketing[marketing['converted'] == True]\\\n",
    "                       .groupby(['language_displayed'])\\\n",
    "                       ['user_id'].nunique()\n",
    "\n",
    "# Calculate the conversion rate for all languages\n",
    "language_conversion_rate = subscribers/total\n",
    "print(language_conversion_rate)"
   ]
  },
  {
   "cell_type": "code",
   "execution_count": 74,
   "id": "fdc5908e",
   "metadata": {},
   "outputs": [
    {
     "name": "stdout",
     "output_type": "stream",
     "text": [
      "date_served\n",
      "2018-01-01    0.099448\n",
      "2018-01-02    0.098930\n",
      "2018-01-03    0.103448\n",
      "2018-01-04    0.108359\n",
      "2018-01-05    0.125392\n",
      "2018-01-06    0.113636\n",
      "2018-01-07    0.141818\n",
      "2018-01-08    0.115385\n",
      "2018-01-09    0.125000\n",
      "2018-01-10    0.118694\n",
      "2018-01-11    0.080645\n",
      "2018-01-12    0.076412\n",
      "2018-01-13    0.084967\n",
      "2018-01-14    0.085246\n",
      "2018-01-15    0.113429\n",
      "2018-01-16    0.255155\n",
      "2018-01-17    0.219512\n",
      "2018-01-18    0.091195\n",
      "2018-01-19    0.059016\n",
      "2018-01-20    0.067524\n",
      "2018-01-21    0.087336\n",
      "2018-01-22    0.123596\n",
      "2018-01-23    0.122093\n",
      "2018-01-24    0.115789\n",
      "2018-01-25    0.125000\n",
      "2018-01-26    0.090090\n",
      "2018-01-27    0.065625\n",
      "2018-01-28    0.062500\n",
      "2018-01-29    0.059561\n",
      "2018-01-30    0.066246\n",
      "2018-01-31    0.052941\n",
      "Name: user_id, dtype: float64\n"
     ]
    }
   ],
   "source": [
    "# Group by date_served and count unique users\n",
    "total = marketing.groupby(['date_served'])['user_id']\\\n",
    "                     .nunique()\n",
    "\n",
    "# Group by date_served and count unique converted users\n",
    "subscribers = marketing[marketing['converted'] == True]\\\n",
    "                         .groupby(['date_served'])\\\n",
    "                         ['user_id'].nunique()\n",
    "\n",
    "# Calculate the conversion rate per day\n",
    "daily_conversion_rate = subscribers/total\n",
    "print(daily_conversion_rate)"
   ]
  },
  {
   "cell_type": "code",
   "execution_count": 75,
   "id": "39467cdf",
   "metadata": {},
   "outputs": [
    {
     "data": {
      "text/plain": [
       "Text(0, 0.5, 'Conversion Rate (%)')"
      ]
     },
     "execution_count": 75,
     "metadata": {},
     "output_type": "execute_result"
    },
    {
     "data": {
      "image/png": "[encoded data removed]",
      "text/plain": [
       "<Figure size 432x288 with 1 Axes>"
      ]
     },
     "metadata": {
      "needs_background": "light"
     },
     "output_type": "display_data"
    }
   ],
   "source": [
    "language_conversion_rate.plot(kind='bar')\n",
    "plt.title('COnersion Rate by language')\n",
    "plt.xlabel('Language',size=14)\n",
    "plt.xticks(rotation=45)\n",
    "plt.ylabel('Conversion Rate (%)',size=14)"
   ]
  },
  {
   "cell_type": "code",
   "execution_count": 76,
   "id": "f490b89a",
   "metadata": {},
   "outputs": [
    {
     "data": {
      "text/html": [
       "<div>\n",
       "<style scoped>\n",
       "    .dataframe tbody tr th:only-of-type {\n",
       "        vertical-align: middle;\n",
       "    }\n",
       "\n",
       "    .dataframe tbody tr th {\n",
       "        vertical-align: top;\n",
       "    }\n",
       "\n",
       "    .dataframe thead th {\n",
       "        text-align: right;\n",
       "    }\n",
       "</style>\n",
       "<table border=\"1\" class=\"dataframe\">\n",
       "  <thead>\n",
       "    <tr style=\"text-align: right;\">\n",
       "      <th></th>\n",
       "      <th>user_id</th>\n",
       "      <th>date_served</th>\n",
       "      <th>marketing_channel</th>\n",
       "      <th>variant</th>\n",
       "      <th>converted</th>\n",
       "      <th>language_displayed</th>\n",
       "      <th>language_preferred</th>\n",
       "      <th>age_group</th>\n",
       "      <th>date_subscribed</th>\n",
       "      <th>date_canceled</th>\n",
       "      <th>subscribing_channel</th>\n",
       "      <th>is_retained</th>\n",
       "      <th>is_hise_ads</th>\n",
       "      <th>channel_code</th>\n",
       "      <th>is_house_ads</th>\n",
       "      <th>day_served</th>\n",
       "    </tr>\n",
       "  </thead>\n",
       "  <tbody>\n",
       "    <tr>\n",
       "      <th>0</th>\n",
       "      <td>a100000029</td>\n",
       "      <td>2018-01-01</td>\n",
       "      <td>House Ads</td>\n",
       "      <td>personalization</td>\n",
       "      <td>True</td>\n",
       "      <td>English</td>\n",
       "      <td>English</td>\n",
       "      <td>0-18 years</td>\n",
       "      <td>2018-01-01</td>\n",
       "      <td>NaT</td>\n",
       "      <td>House Ads</td>\n",
       "      <td>True</td>\n",
       "      <td>True</td>\n",
       "      <td>1.0</td>\n",
       "      <td>True</td>\n",
       "      <td>0.0</td>\n",
       "    </tr>\n",
       "    <tr>\n",
       "      <th>1</th>\n",
       "      <td>a100000030</td>\n",
       "      <td>2018-01-01</td>\n",
       "      <td>House Ads</td>\n",
       "      <td>personalization</td>\n",
       "      <td>True</td>\n",
       "      <td>English</td>\n",
       "      <td>English</td>\n",
       "      <td>19-24 years</td>\n",
       "      <td>2018-01-01</td>\n",
       "      <td>NaT</td>\n",
       "      <td>House Ads</td>\n",
       "      <td>True</td>\n",
       "      <td>True</td>\n",
       "      <td>1.0</td>\n",
       "      <td>True</td>\n",
       "      <td>0.0</td>\n",
       "    </tr>\n",
       "    <tr>\n",
       "      <th>2</th>\n",
       "      <td>a100000031</td>\n",
       "      <td>2018-01-01</td>\n",
       "      <td>House Ads</td>\n",
       "      <td>personalization</td>\n",
       "      <td>True</td>\n",
       "      <td>English</td>\n",
       "      <td>English</td>\n",
       "      <td>24-30 years</td>\n",
       "      <td>2018-01-01</td>\n",
       "      <td>NaT</td>\n",
       "      <td>House Ads</td>\n",
       "      <td>True</td>\n",
       "      <td>True</td>\n",
       "      <td>1.0</td>\n",
       "      <td>True</td>\n",
       "      <td>0.0</td>\n",
       "    </tr>\n",
       "    <tr>\n",
       "      <th>3</th>\n",
       "      <td>a100000032</td>\n",
       "      <td>2018-01-01</td>\n",
       "      <td>House Ads</td>\n",
       "      <td>personalization</td>\n",
       "      <td>True</td>\n",
       "      <td>English</td>\n",
       "      <td>English</td>\n",
       "      <td>30-36 years</td>\n",
       "      <td>2018-01-01</td>\n",
       "      <td>NaT</td>\n",
       "      <td>House Ads</td>\n",
       "      <td>True</td>\n",
       "      <td>True</td>\n",
       "      <td>1.0</td>\n",
       "      <td>True</td>\n",
       "      <td>0.0</td>\n",
       "    </tr>\n",
       "    <tr>\n",
       "      <th>4</th>\n",
       "      <td>a100000033</td>\n",
       "      <td>2018-01-01</td>\n",
       "      <td>House Ads</td>\n",
       "      <td>personalization</td>\n",
       "      <td>True</td>\n",
       "      <td>English</td>\n",
       "      <td>English</td>\n",
       "      <td>36-45 years</td>\n",
       "      <td>2018-01-01</td>\n",
       "      <td>NaT</td>\n",
       "      <td>House Ads</td>\n",
       "      <td>True</td>\n",
       "      <td>True</td>\n",
       "      <td>1.0</td>\n",
       "      <td>True</td>\n",
       "      <td>0.0</td>\n",
       "    </tr>\n",
       "  </tbody>\n",
       "</table>\n",
       "</div>"
      ],
      "text/plain": [
       "      user_id date_served marketing_channel          variant  converted  \\\n",
       "0  a100000029  2018-01-01         House Ads  personalization       True   \n",
       "1  a100000030  2018-01-01         House Ads  personalization       True   \n",
       "2  a100000031  2018-01-01         House Ads  personalization       True   \n",
       "3  a100000032  2018-01-01         House Ads  personalization       True   \n",
       "4  a100000033  2018-01-01         House Ads  personalization       True   \n",
       "\n",
       "  language_displayed language_preferred    age_group date_subscribed  \\\n",
       "0            English            English   0-18 years      2018-01-01   \n",
       "1            English            English  19-24 years      2018-01-01   \n",
       "2            English            English  24-30 years      2018-01-01   \n",
       "3            English            English  30-36 years      2018-01-01   \n",
       "4            English            English  36-45 years      2018-01-01   \n",
       "\n",
       "  date_canceled subscribing_channel is_retained  is_hise_ads  channel_code  \\\n",
       "0           NaT           House Ads        True         True           1.0   \n",
       "1           NaT           House Ads        True         True           1.0   \n",
       "2           NaT           House Ads        True         True           1.0   \n",
       "3           NaT           House Ads        True         True           1.0   \n",
       "4           NaT           House Ads        True         True           1.0   \n",
       "\n",
       "   is_house_ads  day_served  \n",
       "0          True         0.0  \n",
       "1          True         0.0  \n",
       "2          True         0.0  \n",
       "3          True         0.0  \n",
       "4          True         0.0  "
      ]
     },
     "execution_count": 76,
     "metadata": {},
     "output_type": "execute_result"
    }
   ],
   "source": [
    "marketing.head()"
   ]
  },
  {
   "cell_type": "code",
   "execution_count": 77,
   "id": "0cde9140",
   "metadata": {},
   "outputs": [
    {
     "data": {
      "text/plain": [
       "date_subscribed\n",
       "2018-01-01    0.777778\n",
       "2018-01-02    0.702703\n",
       "2018-01-03    0.729730\n",
       "2018-01-04    0.500000\n",
       "2018-01-05    0.575000\n",
       "2018-01-06    0.756757\n",
       "2018-01-07    0.526316\n",
       "2018-01-08    0.638889\n",
       "2018-01-09    0.675000\n",
       "2018-01-10    0.682927\n",
       "2018-01-11    0.615385\n",
       "2018-01-12    0.391304\n",
       "2018-01-13    0.500000\n",
       "2018-01-14    0.615385\n",
       "2018-01-15    0.714286\n",
       "2018-01-16    0.701923\n",
       "2018-01-17    0.616279\n",
       "2018-01-18    0.733333\n",
       "2018-01-19    0.684211\n",
       "2018-01-20    0.809524\n",
       "2018-01-21    0.761905\n",
       "2018-01-22    0.772727\n",
       "2018-01-23    0.714286\n",
       "2018-01-24    0.652174\n",
       "2018-01-25    0.565217\n",
       "2018-01-26    0.800000\n",
       "2018-01-27    0.571429\n",
       "2018-01-28    0.666667\n",
       "2018-01-29    0.750000\n",
       "2018-01-30    0.714286\n",
       "2018-01-31    0.666667\n",
       "Name: user_id, dtype: float64"
      ]
     },
     "execution_count": 77,
     "metadata": {},
     "output_type": "execute_result"
    }
   ],
   "source": [
    "total = marketing.groupby('date_subscribed')['user_id'].nunique()\n",
    "retained = marketing[marketing['is_retained']==True].groupby('date_subscribed')['user_id'].nunique()\n",
    "daily_retention_rate = retained/total\n",
    "daily_retention_rate"
   ]
  },
  {
   "cell_type": "code",
   "execution_count": 78,
   "id": "7f5317ef",
   "metadata": {},
   "outputs": [
    {
     "data": {
      "text/html": [
       "<div>\n",
       "<style scoped>\n",
       "    .dataframe tbody tr th:only-of-type {\n",
       "        vertical-align: middle;\n",
       "    }\n",
       "\n",
       "    .dataframe tbody tr th {\n",
       "        vertical-align: top;\n",
       "    }\n",
       "\n",
       "    .dataframe thead th {\n",
       "        text-align: right;\n",
       "    }\n",
       "</style>\n",
       "<table border=\"1\" class=\"dataframe\">\n",
       "  <thead>\n",
       "    <tr style=\"text-align: right;\">\n",
       "      <th></th>\n",
       "      <th>date_subscribed</th>\n",
       "      <th>retention_rate</th>\n",
       "    </tr>\n",
       "  </thead>\n",
       "  <tbody>\n",
       "    <tr>\n",
       "      <th>0</th>\n",
       "      <td>2018-01-01</td>\n",
       "      <td>0.777778</td>\n",
       "    </tr>\n",
       "    <tr>\n",
       "      <th>1</th>\n",
       "      <td>2018-01-02</td>\n",
       "      <td>0.702703</td>\n",
       "    </tr>\n",
       "    <tr>\n",
       "      <th>2</th>\n",
       "      <td>2018-01-03</td>\n",
       "      <td>0.729730</td>\n",
       "    </tr>\n",
       "    <tr>\n",
       "      <th>3</th>\n",
       "      <td>2018-01-04</td>\n",
       "      <td>0.500000</td>\n",
       "    </tr>\n",
       "    <tr>\n",
       "      <th>4</th>\n",
       "      <td>2018-01-05</td>\n",
       "      <td>0.575000</td>\n",
       "    </tr>\n",
       "    <tr>\n",
       "      <th>5</th>\n",
       "      <td>2018-01-06</td>\n",
       "      <td>0.756757</td>\n",
       "    </tr>\n",
       "    <tr>\n",
       "      <th>6</th>\n",
       "      <td>2018-01-07</td>\n",
       "      <td>0.526316</td>\n",
       "    </tr>\n",
       "    <tr>\n",
       "      <th>7</th>\n",
       "      <td>2018-01-08</td>\n",
       "      <td>0.638889</td>\n",
       "    </tr>\n",
       "    <tr>\n",
       "      <th>8</th>\n",
       "      <td>2018-01-09</td>\n",
       "      <td>0.675000</td>\n",
       "    </tr>\n",
       "    <tr>\n",
       "      <th>9</th>\n",
       "      <td>2018-01-10</td>\n",
       "      <td>0.682927</td>\n",
       "    </tr>\n",
       "    <tr>\n",
       "      <th>10</th>\n",
       "      <td>2018-01-11</td>\n",
       "      <td>0.615385</td>\n",
       "    </tr>\n",
       "    <tr>\n",
       "      <th>11</th>\n",
       "      <td>2018-01-12</td>\n",
       "      <td>0.391304</td>\n",
       "    </tr>\n",
       "    <tr>\n",
       "      <th>12</th>\n",
       "      <td>2018-01-13</td>\n",
       "      <td>0.500000</td>\n",
       "    </tr>\n",
       "    <tr>\n",
       "      <th>13</th>\n",
       "      <td>2018-01-14</td>\n",
       "      <td>0.615385</td>\n",
       "    </tr>\n",
       "    <tr>\n",
       "      <th>14</th>\n",
       "      <td>2018-01-15</td>\n",
       "      <td>0.714286</td>\n",
       "    </tr>\n",
       "    <tr>\n",
       "      <th>15</th>\n",
       "      <td>2018-01-16</td>\n",
       "      <td>0.701923</td>\n",
       "    </tr>\n",
       "    <tr>\n",
       "      <th>16</th>\n",
       "      <td>2018-01-17</td>\n",
       "      <td>0.616279</td>\n",
       "    </tr>\n",
       "    <tr>\n",
       "      <th>17</th>\n",
       "      <td>2018-01-18</td>\n",
       "      <td>0.733333</td>\n",
       "    </tr>\n",
       "    <tr>\n",
       "      <th>18</th>\n",
       "      <td>2018-01-19</td>\n",
       "      <td>0.684211</td>\n",
       "    </tr>\n",
       "    <tr>\n",
       "      <th>19</th>\n",
       "      <td>2018-01-20</td>\n",
       "      <td>0.809524</td>\n",
       "    </tr>\n",
       "    <tr>\n",
       "      <th>20</th>\n",
       "      <td>2018-01-21</td>\n",
       "      <td>0.761905</td>\n",
       "    </tr>\n",
       "    <tr>\n",
       "      <th>21</th>\n",
       "      <td>2018-01-22</td>\n",
       "      <td>0.772727</td>\n",
       "    </tr>\n",
       "    <tr>\n",
       "      <th>22</th>\n",
       "      <td>2018-01-23</td>\n",
       "      <td>0.714286</td>\n",
       "    </tr>\n",
       "    <tr>\n",
       "      <th>23</th>\n",
       "      <td>2018-01-24</td>\n",
       "      <td>0.652174</td>\n",
       "    </tr>\n",
       "    <tr>\n",
       "      <th>24</th>\n",
       "      <td>2018-01-25</td>\n",
       "      <td>0.565217</td>\n",
       "    </tr>\n",
       "    <tr>\n",
       "      <th>25</th>\n",
       "      <td>2018-01-26</td>\n",
       "      <td>0.800000</td>\n",
       "    </tr>\n",
       "    <tr>\n",
       "      <th>26</th>\n",
       "      <td>2018-01-27</td>\n",
       "      <td>0.571429</td>\n",
       "    </tr>\n",
       "    <tr>\n",
       "      <th>27</th>\n",
       "      <td>2018-01-28</td>\n",
       "      <td>0.666667</td>\n",
       "    </tr>\n",
       "    <tr>\n",
       "      <th>28</th>\n",
       "      <td>2018-01-29</td>\n",
       "      <td>0.750000</td>\n",
       "    </tr>\n",
       "    <tr>\n",
       "      <th>29</th>\n",
       "      <td>2018-01-30</td>\n",
       "      <td>0.714286</td>\n",
       "    </tr>\n",
       "    <tr>\n",
       "      <th>30</th>\n",
       "      <td>2018-01-31</td>\n",
       "      <td>0.666667</td>\n",
       "    </tr>\n",
       "  </tbody>\n",
       "</table>\n",
       "</div>"
      ],
      "text/plain": [
       "   date_subscribed  retention_rate\n",
       "0       2018-01-01        0.777778\n",
       "1       2018-01-02        0.702703\n",
       "2       2018-01-03        0.729730\n",
       "3       2018-01-04        0.500000\n",
       "4       2018-01-05        0.575000\n",
       "5       2018-01-06        0.756757\n",
       "6       2018-01-07        0.526316\n",
       "7       2018-01-08        0.638889\n",
       "8       2018-01-09        0.675000\n",
       "9       2018-01-10        0.682927\n",
       "10      2018-01-11        0.615385\n",
       "11      2018-01-12        0.391304\n",
       "12      2018-01-13        0.500000\n",
       "13      2018-01-14        0.615385\n",
       "14      2018-01-15        0.714286\n",
       "15      2018-01-16        0.701923\n",
       "16      2018-01-17        0.616279\n",
       "17      2018-01-18        0.733333\n",
       "18      2018-01-19        0.684211\n",
       "19      2018-01-20        0.809524\n",
       "20      2018-01-21        0.761905\n",
       "21      2018-01-22        0.772727\n",
       "22      2018-01-23        0.714286\n",
       "23      2018-01-24        0.652174\n",
       "24      2018-01-25        0.565217\n",
       "25      2018-01-26        0.800000\n",
       "26      2018-01-27        0.571429\n",
       "27      2018-01-28        0.666667\n",
       "28      2018-01-29        0.750000\n",
       "29      2018-01-30        0.714286\n",
       "30      2018-01-31        0.666667"
      ]
     },
     "execution_count": 78,
     "metadata": {},
     "output_type": "execute_result"
    }
   ],
   "source": [
    "#we make this step to can plot the output\n",
    "daily_retention_rate = pd.DataFrame(daily_retention_rate.reset_index())\n",
    "daily_retention_rate.columns=['date_subscribed','retention_rate']\n",
    "daily_retention_rate"
   ]
  },
  {
   "cell_type": "code",
   "execution_count": 79,
   "id": "338aa137",
   "metadata": {},
   "outputs": [
    {
     "data": {
      "text/plain": [
       "Text(0, 0.5, 'Date')"
      ]
     },
     "execution_count": 79,
     "metadata": {},
     "output_type": "execute_result"
    },
    {
     "data": {
      "image/png": "[encoded data removed]",
      "text/plain": [
       "<Figure size 432x288 with 1 Axes>"
      ]
     },
     "metadata": {
      "needs_background": "light"
     },
     "output_type": "display_data"
    }
   ],
   "source": [
    "daily_retention_rate.plot('date_subscribed','retention_rate')\n",
    "plt.title('Daily subscriber quality',size= 16)\n",
    "plt.xlabel('1-month retention rate (%)',size = 16)\n",
    "plt.ylabel('Date', size = 16)"
   ]
  },
  {
   "cell_type": "code",
   "execution_count": 80,
   "id": "202adbb3",
   "metadata": {},
   "outputs": [
    {
     "data": {
      "image/png": "[encoded data removed]",
      "text/plain": [
       "<Figure size 432x288 with 1 Axes>"
      ]
     },
     "metadata": {
      "needs_background": "light"
     },
     "output_type": "display_data"
    }
   ],
   "source": [
    "daily_retention_rate.plot('date_subscribed','retention_rate')\n",
    "plt.title('Daily subscriber quality',size= 16)\n",
    "plt.xlabel('1-month retention rate (%)',size = 16)\n",
    "plt.ylabel('Date', size = 16)\n",
    "plt.ylim(0)#to make the rate start from 0 and increase by one every step \n",
    "plt.show()"
   ]
  },
  {
   "cell_type": "code",
   "execution_count": 81,
   "id": "e736e29b",
   "metadata": {},
   "outputs": [
    {
     "data": {
      "text/html": [
       "<div>\n",
       "<style scoped>\n",
       "    .dataframe tbody tr th:only-of-type {\n",
       "        vertical-align: middle;\n",
       "    }\n",
       "\n",
       "    .dataframe tbody tr th {\n",
       "        vertical-align: top;\n",
       "    }\n",
       "\n",
       "    .dataframe thead th {\n",
       "        text-align: right;\n",
       "    }\n",
       "</style>\n",
       "<table border=\"1\" class=\"dataframe\">\n",
       "  <thead>\n",
       "    <tr style=\"text-align: right;\">\n",
       "      <th></th>\n",
       "      <th>user_id</th>\n",
       "      <th>date_served</th>\n",
       "      <th>marketing_channel</th>\n",
       "      <th>variant</th>\n",
       "      <th>converted</th>\n",
       "      <th>language_displayed</th>\n",
       "      <th>language_preferred</th>\n",
       "      <th>age_group</th>\n",
       "      <th>date_subscribed</th>\n",
       "      <th>date_canceled</th>\n",
       "      <th>subscribing_channel</th>\n",
       "      <th>is_retained</th>\n",
       "      <th>is_hise_ads</th>\n",
       "      <th>channel_code</th>\n",
       "      <th>is_house_ads</th>\n",
       "      <th>day_served</th>\n",
       "    </tr>\n",
       "  </thead>\n",
       "  <tbody>\n",
       "    <tr>\n",
       "      <th>0</th>\n",
       "      <td>a100000029</td>\n",
       "      <td>2018-01-01</td>\n",
       "      <td>House Ads</td>\n",
       "      <td>personalization</td>\n",
       "      <td>True</td>\n",
       "      <td>English</td>\n",
       "      <td>English</td>\n",
       "      <td>0-18 years</td>\n",
       "      <td>2018-01-01</td>\n",
       "      <td>NaT</td>\n",
       "      <td>House Ads</td>\n",
       "      <td>True</td>\n",
       "      <td>True</td>\n",
       "      <td>1.0</td>\n",
       "      <td>True</td>\n",
       "      <td>0.0</td>\n",
       "    </tr>\n",
       "    <tr>\n",
       "      <th>1</th>\n",
       "      <td>a100000030</td>\n",
       "      <td>2018-01-01</td>\n",
       "      <td>House Ads</td>\n",
       "      <td>personalization</td>\n",
       "      <td>True</td>\n",
       "      <td>English</td>\n",
       "      <td>English</td>\n",
       "      <td>19-24 years</td>\n",
       "      <td>2018-01-01</td>\n",
       "      <td>NaT</td>\n",
       "      <td>House Ads</td>\n",
       "      <td>True</td>\n",
       "      <td>True</td>\n",
       "      <td>1.0</td>\n",
       "      <td>True</td>\n",
       "      <td>0.0</td>\n",
       "    </tr>\n",
       "    <tr>\n",
       "      <th>2</th>\n",
       "      <td>a100000031</td>\n",
       "      <td>2018-01-01</td>\n",
       "      <td>House Ads</td>\n",
       "      <td>personalization</td>\n",
       "      <td>True</td>\n",
       "      <td>English</td>\n",
       "      <td>English</td>\n",
       "      <td>24-30 years</td>\n",
       "      <td>2018-01-01</td>\n",
       "      <td>NaT</td>\n",
       "      <td>House Ads</td>\n",
       "      <td>True</td>\n",
       "      <td>True</td>\n",
       "      <td>1.0</td>\n",
       "      <td>True</td>\n",
       "      <td>0.0</td>\n",
       "    </tr>\n",
       "    <tr>\n",
       "      <th>3</th>\n",
       "      <td>a100000032</td>\n",
       "      <td>2018-01-01</td>\n",
       "      <td>House Ads</td>\n",
       "      <td>personalization</td>\n",
       "      <td>True</td>\n",
       "      <td>English</td>\n",
       "      <td>English</td>\n",
       "      <td>30-36 years</td>\n",
       "      <td>2018-01-01</td>\n",
       "      <td>NaT</td>\n",
       "      <td>House Ads</td>\n",
       "      <td>True</td>\n",
       "      <td>True</td>\n",
       "      <td>1.0</td>\n",
       "      <td>True</td>\n",
       "      <td>0.0</td>\n",
       "    </tr>\n",
       "    <tr>\n",
       "      <th>4</th>\n",
       "      <td>a100000033</td>\n",
       "      <td>2018-01-01</td>\n",
       "      <td>House Ads</td>\n",
       "      <td>personalization</td>\n",
       "      <td>True</td>\n",
       "      <td>English</td>\n",
       "      <td>English</td>\n",
       "      <td>36-45 years</td>\n",
       "      <td>2018-01-01</td>\n",
       "      <td>NaT</td>\n",
       "      <td>House Ads</td>\n",
       "      <td>True</td>\n",
       "      <td>True</td>\n",
       "      <td>1.0</td>\n",
       "      <td>True</td>\n",
       "      <td>0.0</td>\n",
       "    </tr>\n",
       "  </tbody>\n",
       "</table>\n",
       "</div>"
      ],
      "text/plain": [
       "      user_id date_served marketing_channel          variant  converted  \\\n",
       "0  a100000029  2018-01-01         House Ads  personalization       True   \n",
       "1  a100000030  2018-01-01         House Ads  personalization       True   \n",
       "2  a100000031  2018-01-01         House Ads  personalization       True   \n",
       "3  a100000032  2018-01-01         House Ads  personalization       True   \n",
       "4  a100000033  2018-01-01         House Ads  personalization       True   \n",
       "\n",
       "  language_displayed language_preferred    age_group date_subscribed  \\\n",
       "0            English            English   0-18 years      2018-01-01   \n",
       "1            English            English  19-24 years      2018-01-01   \n",
       "2            English            English  24-30 years      2018-01-01   \n",
       "3            English            English  30-36 years      2018-01-01   \n",
       "4            English            English  36-45 years      2018-01-01   \n",
       "\n",
       "  date_canceled subscribing_channel is_retained  is_hise_ads  channel_code  \\\n",
       "0           NaT           House Ads        True         True           1.0   \n",
       "1           NaT           House Ads        True         True           1.0   \n",
       "2           NaT           House Ads        True         True           1.0   \n",
       "3           NaT           House Ads        True         True           1.0   \n",
       "4           NaT           House Ads        True         True           1.0   \n",
       "\n",
       "   is_house_ads  day_served  \n",
       "0          True         0.0  \n",
       "1          True         0.0  \n",
       "2          True         0.0  \n",
       "3          True         0.0  \n",
       "4          True         0.0  "
      ]
     },
     "execution_count": 81,
     "metadata": {},
     "output_type": "execute_result"
    }
   ],
   "source": [
    "marketing.head()"
   ]
  },
  {
   "cell_type": "code",
   "execution_count": 82,
   "id": "4892d275",
   "metadata": {},
   "outputs": [
    {
     "data": {
      "text/html": [
       "<div>\n",
       "<style scoped>\n",
       "    .dataframe tbody tr th:only-of-type {\n",
       "        vertical-align: middle;\n",
       "    }\n",
       "\n",
       "    .dataframe tbody tr th {\n",
       "        vertical-align: top;\n",
       "    }\n",
       "\n",
       "    .dataframe thead th {\n",
       "        text-align: right;\n",
       "    }\n",
       "</style>\n",
       "<table border=\"1\" class=\"dataframe\">\n",
       "  <thead>\n",
       "    <tr style=\"text-align: right;\">\n",
       "      <th>language_preferred</th>\n",
       "      <th>Arabic</th>\n",
       "      <th>English</th>\n",
       "      <th>German</th>\n",
       "      <th>Spanish</th>\n",
       "    </tr>\n",
       "    <tr>\n",
       "      <th>date_served</th>\n",
       "      <th></th>\n",
       "      <th></th>\n",
       "      <th></th>\n",
       "      <th></th>\n",
       "    </tr>\n",
       "  </thead>\n",
       "  <tbody>\n",
       "    <tr>\n",
       "      <th>2018-01-01</th>\n",
       "      <td>4.0</td>\n",
       "      <td>355.0</td>\n",
       "      <td>5.0</td>\n",
       "      <td>11.0</td>\n",
       "    </tr>\n",
       "    <tr>\n",
       "      <th>2018-01-02</th>\n",
       "      <td>4.0</td>\n",
       "      <td>397.0</td>\n",
       "      <td>6.0</td>\n",
       "      <td>10.0</td>\n",
       "    </tr>\n",
       "    <tr>\n",
       "      <th>2018-01-03</th>\n",
       "      <td>3.0</td>\n",
       "      <td>374.0</td>\n",
       "      <td>3.0</td>\n",
       "      <td>8.0</td>\n",
       "    </tr>\n",
       "    <tr>\n",
       "      <th>2018-01-04</th>\n",
       "      <td>2.0</td>\n",
       "      <td>318.0</td>\n",
       "      <td>2.0</td>\n",
       "      <td>14.0</td>\n",
       "    </tr>\n",
       "    <tr>\n",
       "      <th>2018-01-05</th>\n",
       "      <td>1.0</td>\n",
       "      <td>314.0</td>\n",
       "      <td>2.0</td>\n",
       "      <td>14.0</td>\n",
       "    </tr>\n",
       "  </tbody>\n",
       "</table>\n",
       "</div>"
      ],
      "text/plain": [
       "language_preferred  Arabic  English  German  Spanish\n",
       "date_served                                         \n",
       "2018-01-01             4.0    355.0     5.0     11.0\n",
       "2018-01-02             4.0    397.0     6.0     10.0\n",
       "2018-01-03             3.0    374.0     3.0      8.0\n",
       "2018-01-04             2.0    318.0     2.0     14.0\n",
       "2018-01-05             1.0    314.0     2.0     14.0"
      ]
     },
     "execution_count": 82,
     "metadata": {},
     "output_type": "execute_result"
    }
   ],
   "source": [
    "language = marketing.groupby(['date_served','language_preferred'])['user_id'].count()\n",
    "language = pd.DataFrame(language.unstack(level=1))\n",
    "language.head()"
   ]
  },
  {
   "cell_type": "code",
   "execution_count": 83,
   "id": "9f125452",
   "metadata": {},
   "outputs": [
    {
     "data": {
      "image/png": "[encoded data removed]",
      "text/plain": [
       "<Figure size 432x288 with 1 Axes>"
      ]
     },
     "metadata": {
      "needs_background": "light"
     },
     "output_type": "display_data"
    }
   ],
   "source": [
    "language.plot()\n",
    "plt.title('Daily language preferences')\n",
    "plt.xlabel('Date')\n",
    "plt.ylabel('Users')\n",
    "plt.legend(loc='upper right',labels = language.columns.values)\n",
    "plt.show()"
   ]
  },
  {
   "cell_type": "code",
   "execution_count": 84,
   "id": "8f0f6ef4",
   "metadata": {},
   "outputs": [
    {
     "data": {
      "text/html": [
       "<div>\n",
       "<style scoped>\n",
       "    .dataframe tbody tr th:only-of-type {\n",
       "        vertical-align: middle;\n",
       "    }\n",
       "\n",
       "    .dataframe tbody tr th {\n",
       "        vertical-align: top;\n",
       "    }\n",
       "\n",
       "    .dataframe thead th {\n",
       "        text-align: right;\n",
       "    }\n",
       "</style>\n",
       "<table border=\"1\" class=\"dataframe\">\n",
       "  <thead>\n",
       "    <tr style=\"text-align: right;\">\n",
       "      <th>age_group</th>\n",
       "      <th>0-18 years</th>\n",
       "      <th>19-24 years</th>\n",
       "      <th>24-30 years</th>\n",
       "      <th>30-36 years</th>\n",
       "      <th>36-45 years</th>\n",
       "      <th>45-55 years</th>\n",
       "      <th>55+ years</th>\n",
       "    </tr>\n",
       "    <tr>\n",
       "      <th>language_preferred</th>\n",
       "      <th></th>\n",
       "      <th></th>\n",
       "      <th></th>\n",
       "      <th></th>\n",
       "      <th></th>\n",
       "      <th></th>\n",
       "      <th></th>\n",
       "    </tr>\n",
       "  </thead>\n",
       "  <tbody>\n",
       "    <tr>\n",
       "      <th>Arabic</th>\n",
       "      <td>19</td>\n",
       "      <td>26</td>\n",
       "      <td>19</td>\n",
       "      <td>19</td>\n",
       "      <td>19</td>\n",
       "      <td>21</td>\n",
       "      <td>22</td>\n",
       "    </tr>\n",
       "    <tr>\n",
       "      <th>English</th>\n",
       "      <td>1421</td>\n",
       "      <td>1560</td>\n",
       "      <td>1442</td>\n",
       "      <td>1251</td>\n",
       "      <td>1260</td>\n",
       "      <td>1240</td>\n",
       "      <td>1101</td>\n",
       "    </tr>\n",
       "    <tr>\n",
       "      <th>German</th>\n",
       "      <td>31</td>\n",
       "      <td>29</td>\n",
       "      <td>35</td>\n",
       "      <td>16</td>\n",
       "      <td>19</td>\n",
       "      <td>25</td>\n",
       "      <td>12</td>\n",
       "    </tr>\n",
       "    <tr>\n",
       "      <th>Spanish</th>\n",
       "      <td>68</td>\n",
       "      <td>67</td>\n",
       "      <td>72</td>\n",
       "      <td>69</td>\n",
       "      <td>55</td>\n",
       "      <td>67</td>\n",
       "      <td>52</td>\n",
       "    </tr>\n",
       "  </tbody>\n",
       "</table>\n",
       "</div>"
      ],
      "text/plain": [
       "age_group           0-18 years  19-24 years  24-30 years  30-36 years  \\\n",
       "language_preferred                                                      \n",
       "Arabic                      19           26           19           19   \n",
       "English                   1421         1560         1442         1251   \n",
       "German                      31           29           35           16   \n",
       "Spanish                     68           67           72           69   \n",
       "\n",
       "age_group           36-45 years  45-55 years  55+ years  \n",
       "language_preferred                                       \n",
       "Arabic                       19           21         22  \n",
       "English                    1260         1240       1101  \n",
       "German                       19           25         12  \n",
       "Spanish                      55           67         52  "
      ]
     },
     "execution_count": 84,
     "metadata": {},
     "output_type": "execute_result"
    }
   ],
   "source": [
    "language_age = marketing.groupby(['language_preferred','age_group'])['user_id'].count()\n",
    "language_age = pd.DataFrame(language_age.unstack(level=1))\n",
    "language_age.head()"
   ]
  },
  {
   "cell_type": "code",
   "execution_count": 85,
   "id": "ad7f7e5e",
   "metadata": {},
   "outputs": [
    {
     "data": {
      "image/png": "[encoded data removed]",
      "text/plain": [
       "<Figure size 432x288 with 1 Axes>"
      ]
     },
     "metadata": {
      "needs_background": "light"
     },
     "output_type": "display_data"
    }
   ],
   "source": [
    "language_age.plot(kind = 'bar')\n",
    "plt.title('Daily language preferences by age group')\n",
    "plt.xlabel('Language')\n",
    "plt.ylabel('Users')\n",
    "plt.legend(loc='upper right',labels = language_age.columns.values)\n",
    "plt.show()"
   ]
  },
  {
   "cell_type": "markdown",
   "id": "2ae1b0f3",
   "metadata": {},
   "source": [
    "# building a retention function"
   ]
  },
  {
   "cell_type": "code",
   "execution_count": 86,
   "id": "7deb50b9",
   "metadata": {},
   "outputs": [],
   "source": [
    "def retention_rate(dataframe,column_names):\n",
    "    '''group by column_named and calculate retention\n",
    "       group by column_named and caluclate concersion\n",
    "       return retention rate\n",
    "    '''\n",
    "    retained = dataframe[dataframe['is_retained']==True].groupby(column_names)['user_id'].nunique()\n",
    "    converted = dataframe[dataframe['converted']== True].groupby(column_names)['user_id'].nunique()\n",
    "    retention_rate = retained/converted\n",
    "    \n",
    "    return retention_rate"
   ]
  },
  {
   "cell_type": "code",
   "execution_count": 87,
   "id": "1f5663ae",
   "metadata": {},
   "outputs": [],
   "source": [
    "def conversion_rate(dataframe, column_names):\n",
    "    # Total number of converted users\n",
    "    column_conv = dataframe[dataframe['converted'] == True]\\\n",
    "                       .groupby(column_names)['user_id'].nunique()\n",
    "\n",
    "    # Total number users\n",
    "    column_total = dataframe.groupby(column_names)['user_id'].nunique()   \n",
    "    \n",
    "    # Conversion rate \n",
    "    conversion_rate = column_conv/column_total\n",
    "    \n",
    "    # Fill missing values with 0\n",
    "    conversion_rate = conversion_rate.fillna(0)\n",
    "    return conversion_rate"
   ]
  },
  {
   "cell_type": "code",
   "execution_count": 88,
   "id": "d56cd58a",
   "metadata": {},
   "outputs": [
    {
     "name": "stdout",
     "output_type": "stream",
     "text": [
      "Help on function retention_rate in module __main__:\n",
      "\n",
      "retention_rate(dataframe, column_names)\n",
      "    group by column_named and calculate retention\n",
      "    group by column_named and caluclate concersion\n",
      "    return retention rate\n",
      "\n"
     ]
    }
   ],
   "source": [
    "help(retention_rate)"
   ]
  },
  {
   "cell_type": "code",
   "execution_count": 89,
   "id": "87f5c883",
   "metadata": {},
   "outputs": [
    {
     "name": "stdout",
     "output_type": "stream",
     "text": [
      "                                      user_id\n",
      "date_subscribed subscribing_channel          \n",
      "2018-01-01      Email                1.000000\n",
      "                Facebook             0.875000\n",
      "                House Ads            0.687500\n",
      "                Instagram            0.750000\n",
      "                Push                 1.000000\n",
      "...                                       ...\n",
      "2018-01-31      Email                1.000000\n",
      "                Facebook             0.833333\n",
      "                House Ads            0.500000\n",
      "                Instagram            0.666667\n",
      "                Push                 0.500000\n",
      "\n",
      "[155 rows x 1 columns]\n",
      "                      user_id                                        \n",
      "subscribing_channel     Email  Facebook House Ads Instagram      Push\n",
      "date_subscribed                                                      \n",
      "2018-01-01           1.000000  0.875000  0.687500  0.750000  1.000000\n",
      "2018-01-02           0.750000  1.000000  0.588235  0.625000  1.000000\n",
      "2018-01-03                NaN  0.800000  0.647059  0.909091  0.666667\n",
      "2018-01-04           1.000000  0.666667  0.466667  0.500000       NaN\n",
      "2018-01-05           1.000000  0.571429  0.500000  0.636364  1.000000\n",
      "2018-01-06           1.333333  0.571429  0.941176  0.500000  0.500000\n",
      "2018-01-07           0.500000  0.750000  0.526316  0.400000  0.666667\n",
      "2018-01-08                NaN  0.888889  0.500000  0.625000  1.000000\n",
      "2018-01-09           1.000000  0.285714  0.850000  0.666667  0.500000\n",
      "2018-01-10           1.500000  0.714286  0.666667  0.555556  1.000000\n",
      "2018-01-11           0.500000  0.571429  0.166667  1.000000  1.000000\n",
      "2018-01-12                NaN  0.571429       NaN  0.500000  0.333333\n",
      "2018-01-13           0.333333  0.666667  0.166667  0.666667  0.500000\n",
      "2018-01-14           1.000000  0.666667  0.166667  0.909091       NaN\n",
      "2018-01-15           1.000000  0.375000  0.166667  0.875000  1.000000\n",
      "2018-01-16           1.041667  0.588235  0.166667  0.294118  0.636364\n",
      "2018-01-17           0.500000  0.642857  0.333333  0.894737  0.900000\n",
      "2018-01-18           1.333333  0.666667  0.500000  0.900000       NaN\n",
      "2018-01-19                NaN  0.600000  0.600000  0.666667  1.000000\n",
      "2018-01-20           1.000000  0.666667  0.833333  0.800000  1.000000\n",
      "2018-01-21           2.000000  0.714286  0.600000  0.800000  1.000000\n",
      "2018-01-22           1.000000  0.833333  0.666667  0.750000  1.000000\n",
      "2018-01-23           1.000000  0.833333  0.600000  0.500000  1.000000\n",
      "2018-01-24           1.000000  0.571429  0.666667  0.666667  1.000000\n",
      "2018-01-25           0.500000  0.800000  0.833333  0.375000       NaN\n",
      "2018-01-26           0.500000  0.833333  0.833333  0.800000  1.000000\n",
      "2018-01-27                NaN  0.666667  0.833333  0.400000  0.333333\n",
      "2018-01-28           0.500000  0.750000  0.666667  0.666667  1.000000\n",
      "2018-01-29           2.000000  1.000000  0.400000  0.833333  0.500000\n",
      "2018-01-30           0.666667  0.857143  0.500000  1.000000  0.500000\n",
      "2018-01-31           1.000000  0.833333  0.500000  0.666667  0.500000\n"
     ]
    }
   ],
   "source": [
    "daily_retention = retention_rate(marketing,['date_subscribed','subscribing_channel'])\n",
    "daily_retention = pd.DataFrame(daily_retention)\n",
    "print(daily_retention)\n",
    "daily_retention = pd.DataFrame(daily_retention.unstack(level=1))\n",
    "print(daily_retention)"
   ]
  },
  {
   "cell_type": "code",
   "execution_count": 90,
   "id": "76b729a9",
   "metadata": {},
   "outputs": [],
   "source": [
    "def plotting_conv(dataframe):\n",
    "    for column in dataframe:\n",
    "        plt.plot(dataframe.index, dataframe[column])\n",
    "        plt.title('Daily'+ column + ' retention rate\\n',size = 16)\n",
    "        plt.ylabel('Retention rate(%)', size = 14)\n",
    "        plt.xlabel('Date' ,size=14)\n",
    "        plt.show()\n",
    "        "
   ]
  },
  {
   "cell_type": "code",
   "execution_count": 91,
   "id": "c35532a2",
   "metadata": {},
   "outputs": [
    {
     "data": {
      "text/plain": [
       "Index(['user_id', 'date_served', 'marketing_channel', 'variant', 'converted',\n",
       "       'language_displayed', 'language_preferred', 'age_group',\n",
       "       'date_subscribed', 'date_canceled', 'subscribing_channel',\n",
       "       'is_retained', 'is_hise_ads', 'channel_code', 'is_house_ads',\n",
       "       'day_served'],\n",
       "      dtype='object')"
      ]
     },
     "execution_count": 91,
     "metadata": {},
     "output_type": "execute_result"
    }
   ],
   "source": [
    "marketing.columns"
   ]
  },
  {
   "cell_type": "code",
   "execution_count": 92,
   "id": "7a47b2b3",
   "metadata": {},
   "outputs": [
    {
     "data": {
      "image/png": "[encoded data removed]",
      "text/plain": [
       "<Figure size 432x288 with 1 Axes>"
      ]
     },
     "metadata": {
      "needs_background": "light"
     },
     "output_type": "display_data"
    }
   ],
   "source": [
    "# Add day of week column to marketing\n",
    "marketing['DoW_served'] = marketing['date_served'].dt.dayofweek\n",
    "\n",
    "# Calculate conversion rate by day of week\n",
    "DoW_conversion = conversion_rate(marketing, ['DoW_served', \n",
    "                                             'marketing_channel'])\n",
    "\n",
    "# Unstack channels\n",
    "DoW_df = pd.DataFrame(DoW_conversion.unstack(level=1))\n",
    "\n",
    "# Plot conversion rate by day of week\n",
    "DoW_df.plot()\n",
    "plt.title('Conversion rate by day of week\\n')\n",
    "plt.ylim(0)\n",
    "plt.show()"
   ]
  },
  {
   "cell_type": "code",
   "execution_count": 93,
   "id": "95b76f92",
   "metadata": {},
   "outputs": [
    {
     "data": {
      "image/png": "[encoded data removed]",
      "text/plain": [
       "<Figure size 432x288 with 1 Axes>"
      ]
     },
     "metadata": {
      "needs_background": "light"
     },
     "output_type": "display_data"
    },
    {
     "data": {
      "image/png": "[encoded data removed]",
      "text/plain": [
       "<Figure size 432x288 with 1 Axes>"
      ]
     },
     "metadata": {
      "needs_background": "light"
     },
     "output_type": "display_data"
    },
    {
     "data": {
      "image/png": "[encoded data removed]",
      "text/plain": [
       "<Figure size 432x288 with 1 Axes>"
      ]
     },
     "metadata": {
      "needs_background": "light"
     },
     "output_type": "display_data"
    },
    {
     "data": {
      "image/png": "[encoded data removed]",
      "text/plain": [
       "<Figure size 432x288 with 1 Axes>"
      ]
     },
     "metadata": {
      "needs_background": "light"
     },
     "output_type": "display_data"
    }
   ],
   "source": [
    "# Isolate the rows where marketing channel is House Ads\n",
    "house_ads = marketing[marketing['marketing_channel']=='House Ads']\n",
    "\n",
    "# Calculate conversion by date served, and language displayed\n",
    "conv_lang_channel = conversion_rate(house_ads,['date_served','language_displayed'])\n",
    "\n",
    "# Unstack conv_lang_channel\n",
    "conv_lang_df = pd.DataFrame(conv_lang_channel.unstack(level=1))\n",
    "\n",
    "# Use your plotting function to display results\n",
    "plotting_conv(conv_lang_df)"
   ]
  },
  {
   "cell_type": "code",
   "execution_count": 94,
   "id": "54c8f172",
   "metadata": {},
   "outputs": [
    {
     "name": "stderr",
     "output_type": "stream",
     "text": [
      "C:\\Users\\Shaheeen\\AppData\\Local\\Temp/ipykernel_11684/1543954123.py:2: SettingWithCopyWarning: \n",
      "A value is trying to be set on a copy of a slice from a DataFrame.\n",
      "Try using .loc[row_indexer,col_indexer] = value instead\n",
      "\n",
      "See the caveats in the documentation: https://pandas.pydata.org/pandas-docs/stable/user_guide/indexing.html#returning-a-view-versus-a-copy\n",
      "  house_ads['is_correct_lang'] = np.where(\n"
     ]
    }
   ],
   "source": [
    "# Add the new column is_correct_lang\n",
    "house_ads['is_correct_lang'] = np.where(\n",
    "    house_ads['language_displayed'] == house_ads['language_preferred'], \n",
    "    'Yes', \n",
    "    'No')\n",
    "\n",
    "# Groupby date_served and correct_language\n",
    "language_check = house_ads.groupby(['date_served','is_correct_lang'])['user_id'].count()\n",
    "\n",
    "# Unstack language_check and fill missing values with 0's\n",
    "language_check_df = pd.DataFrame(language_check.unstack(level=1)).fillna(0)\n",
    "\n",
    "# Print results"
   ]
  },
  {
   "cell_type": "code",
   "execution_count": 95,
   "id": "6b786150",
   "metadata": {},
   "outputs": [
    {
     "data": {
      "image/png": "[encoded data removed]",
      "text/plain": [
       "<Figure size 432x288 with 1 Axes>"
      ]
     },
     "metadata": {
      "needs_background": "light"
     },
     "output_type": "display_data"
    }
   ],
   "source": [
    "# Divide the count where language is correct by the row sum\n",
    "language_check_df['pct'] = language_check_df['Yes']/language_check_df.sum(axis=1)\n",
    "\n",
    "# Plot and show your results\n",
    "plt.plot(language_check_df.index.values, language_check_df['pct'])\n",
    "plt.show()"
   ]
  },
  {
   "cell_type": "code",
   "execution_count": 96,
   "id": "cd9a604b",
   "metadata": {
    "scrolled": true
   },
   "outputs": [
    {
     "data": {
      "text/html": [
       "<div>\n",
       "<style scoped>\n",
       "    .dataframe tbody tr th:only-of-type {\n",
       "        vertical-align: middle;\n",
       "    }\n",
       "\n",
       "    .dataframe tbody tr th {\n",
       "        vertical-align: top;\n",
       "    }\n",
       "\n",
       "    .dataframe thead th {\n",
       "        text-align: right;\n",
       "    }\n",
       "</style>\n",
       "<table border=\"1\" class=\"dataframe\">\n",
       "  <thead>\n",
       "    <tr style=\"text-align: right;\">\n",
       "      <th></th>\n",
       "      <th>user_id</th>\n",
       "      <th>date_served</th>\n",
       "      <th>marketing_channel</th>\n",
       "      <th>variant</th>\n",
       "      <th>converted</th>\n",
       "      <th>language_displayed</th>\n",
       "      <th>language_preferred</th>\n",
       "      <th>age_group</th>\n",
       "      <th>date_subscribed</th>\n",
       "      <th>date_canceled</th>\n",
       "      <th>subscribing_channel</th>\n",
       "      <th>is_retained</th>\n",
       "      <th>is_hise_ads</th>\n",
       "      <th>channel_code</th>\n",
       "      <th>is_house_ads</th>\n",
       "      <th>day_served</th>\n",
       "      <th>DoW_served</th>\n",
       "    </tr>\n",
       "  </thead>\n",
       "  <tbody>\n",
       "    <tr>\n",
       "      <th>0</th>\n",
       "      <td>a100000029</td>\n",
       "      <td>2018-01-01</td>\n",
       "      <td>House Ads</td>\n",
       "      <td>personalization</td>\n",
       "      <td>True</td>\n",
       "      <td>English</td>\n",
       "      <td>English</td>\n",
       "      <td>0-18 years</td>\n",
       "      <td>2018-01-01</td>\n",
       "      <td>NaT</td>\n",
       "      <td>House Ads</td>\n",
       "      <td>True</td>\n",
       "      <td>True</td>\n",
       "      <td>1.0</td>\n",
       "      <td>True</td>\n",
       "      <td>0.0</td>\n",
       "      <td>0.0</td>\n",
       "    </tr>\n",
       "    <tr>\n",
       "      <th>1</th>\n",
       "      <td>a100000030</td>\n",
       "      <td>2018-01-01</td>\n",
       "      <td>House Ads</td>\n",
       "      <td>personalization</td>\n",
       "      <td>True</td>\n",
       "      <td>English</td>\n",
       "      <td>English</td>\n",
       "      <td>19-24 years</td>\n",
       "      <td>2018-01-01</td>\n",
       "      <td>NaT</td>\n",
       "      <td>House Ads</td>\n",
       "      <td>True</td>\n",
       "      <td>True</td>\n",
       "      <td>1.0</td>\n",
       "      <td>True</td>\n",
       "      <td>0.0</td>\n",
       "      <td>0.0</td>\n",
       "    </tr>\n",
       "    <tr>\n",
       "      <th>2</th>\n",
       "      <td>a100000031</td>\n",
       "      <td>2018-01-01</td>\n",
       "      <td>House Ads</td>\n",
       "      <td>personalization</td>\n",
       "      <td>True</td>\n",
       "      <td>English</td>\n",
       "      <td>English</td>\n",
       "      <td>24-30 years</td>\n",
       "      <td>2018-01-01</td>\n",
       "      <td>NaT</td>\n",
       "      <td>House Ads</td>\n",
       "      <td>True</td>\n",
       "      <td>True</td>\n",
       "      <td>1.0</td>\n",
       "      <td>True</td>\n",
       "      <td>0.0</td>\n",
       "      <td>0.0</td>\n",
       "    </tr>\n",
       "    <tr>\n",
       "      <th>3</th>\n",
       "      <td>a100000032</td>\n",
       "      <td>2018-01-01</td>\n",
       "      <td>House Ads</td>\n",
       "      <td>personalization</td>\n",
       "      <td>True</td>\n",
       "      <td>English</td>\n",
       "      <td>English</td>\n",
       "      <td>30-36 years</td>\n",
       "      <td>2018-01-01</td>\n",
       "      <td>NaT</td>\n",
       "      <td>House Ads</td>\n",
       "      <td>True</td>\n",
       "      <td>True</td>\n",
       "      <td>1.0</td>\n",
       "      <td>True</td>\n",
       "      <td>0.0</td>\n",
       "      <td>0.0</td>\n",
       "    </tr>\n",
       "    <tr>\n",
       "      <th>4</th>\n",
       "      <td>a100000033</td>\n",
       "      <td>2018-01-01</td>\n",
       "      <td>House Ads</td>\n",
       "      <td>personalization</td>\n",
       "      <td>True</td>\n",
       "      <td>English</td>\n",
       "      <td>English</td>\n",
       "      <td>36-45 years</td>\n",
       "      <td>2018-01-01</td>\n",
       "      <td>NaT</td>\n",
       "      <td>House Ads</td>\n",
       "      <td>True</td>\n",
       "      <td>True</td>\n",
       "      <td>1.0</td>\n",
       "      <td>True</td>\n",
       "      <td>0.0</td>\n",
       "      <td>0.0</td>\n",
       "    </tr>\n",
       "    <tr>\n",
       "      <th>...</th>\n",
       "      <td>...</td>\n",
       "      <td>...</td>\n",
       "      <td>...</td>\n",
       "      <td>...</td>\n",
       "      <td>...</td>\n",
       "      <td>...</td>\n",
       "      <td>...</td>\n",
       "      <td>...</td>\n",
       "      <td>...</td>\n",
       "      <td>...</td>\n",
       "      <td>...</td>\n",
       "      <td>...</td>\n",
       "      <td>...</td>\n",
       "      <td>...</td>\n",
       "      <td>...</td>\n",
       "      <td>...</td>\n",
       "      <td>...</td>\n",
       "    </tr>\n",
       "    <tr>\n",
       "      <th>10032</th>\n",
       "      <td>a100007290</td>\n",
       "      <td>2018-01-17</td>\n",
       "      <td>Email</td>\n",
       "      <td>control</td>\n",
       "      <td>True</td>\n",
       "      <td>German</td>\n",
       "      <td>German</td>\n",
       "      <td>45-55 years</td>\n",
       "      <td>2018-01-17</td>\n",
       "      <td>2018-01-24</td>\n",
       "      <td>Email</td>\n",
       "      <td>False</td>\n",
       "      <td>False</td>\n",
       "      <td>4.0</td>\n",
       "      <td>False</td>\n",
       "      <td>2.0</td>\n",
       "      <td>2.0</td>\n",
       "    </tr>\n",
       "    <tr>\n",
       "      <th>10033</th>\n",
       "      <td>a100007291</td>\n",
       "      <td>2018-01-17</td>\n",
       "      <td>Email</td>\n",
       "      <td>control</td>\n",
       "      <td>True</td>\n",
       "      <td>German</td>\n",
       "      <td>German</td>\n",
       "      <td>55+ years</td>\n",
       "      <td>2018-01-17</td>\n",
       "      <td>NaT</td>\n",
       "      <td>Email</td>\n",
       "      <td>True</td>\n",
       "      <td>False</td>\n",
       "      <td>4.0</td>\n",
       "      <td>False</td>\n",
       "      <td>2.0</td>\n",
       "      <td>2.0</td>\n",
       "    </tr>\n",
       "    <tr>\n",
       "      <th>10034</th>\n",
       "      <td>a100007292</td>\n",
       "      <td>2018-01-05</td>\n",
       "      <td>Instagram</td>\n",
       "      <td>control</td>\n",
       "      <td>False</td>\n",
       "      <td>German</td>\n",
       "      <td>German</td>\n",
       "      <td>55+ years</td>\n",
       "      <td>2018-01-17</td>\n",
       "      <td>NaT</td>\n",
       "      <td>Email</td>\n",
       "      <td>True</td>\n",
       "      <td>False</td>\n",
       "      <td>2.0</td>\n",
       "      <td>False</td>\n",
       "      <td>4.0</td>\n",
       "      <td>4.0</td>\n",
       "    </tr>\n",
       "    <tr>\n",
       "      <th>10035</th>\n",
       "      <td>a100007293</td>\n",
       "      <td>2018-01-17</td>\n",
       "      <td>Email</td>\n",
       "      <td>control</td>\n",
       "      <td>True</td>\n",
       "      <td>German</td>\n",
       "      <td>German</td>\n",
       "      <td>0-18 years</td>\n",
       "      <td>2018-01-17</td>\n",
       "      <td>NaT</td>\n",
       "      <td>Email</td>\n",
       "      <td>True</td>\n",
       "      <td>False</td>\n",
       "      <td>4.0</td>\n",
       "      <td>False</td>\n",
       "      <td>2.0</td>\n",
       "      <td>2.0</td>\n",
       "    </tr>\n",
       "    <tr>\n",
       "      <th>10036</th>\n",
       "      <td>a100007294</td>\n",
       "      <td>2018-01-06</td>\n",
       "      <td>Facebook</td>\n",
       "      <td>control</td>\n",
       "      <td>False</td>\n",
       "      <td>German</td>\n",
       "      <td>German</td>\n",
       "      <td>0-18 years</td>\n",
       "      <td>2018-01-17</td>\n",
       "      <td>NaT</td>\n",
       "      <td>Email</td>\n",
       "      <td>True</td>\n",
       "      <td>False</td>\n",
       "      <td>3.0</td>\n",
       "      <td>False</td>\n",
       "      <td>5.0</td>\n",
       "      <td>5.0</td>\n",
       "    </tr>\n",
       "  </tbody>\n",
       "</table>\n",
       "<p>10037 rows × 17 columns</p>\n",
       "</div>"
      ],
      "text/plain": [
       "          user_id date_served marketing_channel          variant  converted  \\\n",
       "0      a100000029  2018-01-01         House Ads  personalization       True   \n",
       "1      a100000030  2018-01-01         House Ads  personalization       True   \n",
       "2      a100000031  2018-01-01         House Ads  personalization       True   \n",
       "3      a100000032  2018-01-01         House Ads  personalization       True   \n",
       "4      a100000033  2018-01-01         House Ads  personalization       True   \n",
       "...           ...         ...               ...              ...        ...   \n",
       "10032  a100007290  2018-01-17             Email          control       True   \n",
       "10033  a100007291  2018-01-17             Email          control       True   \n",
       "10034  a100007292  2018-01-05         Instagram          control      False   \n",
       "10035  a100007293  2018-01-17             Email          control       True   \n",
       "10036  a100007294  2018-01-06          Facebook          control      False   \n",
       "\n",
       "      language_displayed language_preferred    age_group date_subscribed  \\\n",
       "0                English            English   0-18 years      2018-01-01   \n",
       "1                English            English  19-24 years      2018-01-01   \n",
       "2                English            English  24-30 years      2018-01-01   \n",
       "3                English            English  30-36 years      2018-01-01   \n",
       "4                English            English  36-45 years      2018-01-01   \n",
       "...                  ...                ...          ...             ...   \n",
       "10032             German             German  45-55 years      2018-01-17   \n",
       "10033             German             German    55+ years      2018-01-17   \n",
       "10034             German             German    55+ years      2018-01-17   \n",
       "10035             German             German   0-18 years      2018-01-17   \n",
       "10036             German             German   0-18 years      2018-01-17   \n",
       "\n",
       "      date_canceled subscribing_channel is_retained  is_hise_ads  \\\n",
       "0               NaT           House Ads        True         True   \n",
       "1               NaT           House Ads        True         True   \n",
       "2               NaT           House Ads        True         True   \n",
       "3               NaT           House Ads        True         True   \n",
       "4               NaT           House Ads        True         True   \n",
       "...             ...                 ...         ...          ...   \n",
       "10032    2018-01-24               Email       False        False   \n",
       "10033           NaT               Email        True        False   \n",
       "10034           NaT               Email        True        False   \n",
       "10035           NaT               Email        True        False   \n",
       "10036           NaT               Email        True        False   \n",
       "\n",
       "       channel_code  is_house_ads  day_served  DoW_served  \n",
       "0               1.0          True         0.0         0.0  \n",
       "1               1.0          True         0.0         0.0  \n",
       "2               1.0          True         0.0         0.0  \n",
       "3               1.0          True         0.0         0.0  \n",
       "4               1.0          True         0.0         0.0  \n",
       "...             ...           ...         ...         ...  \n",
       "10032           4.0         False         2.0         2.0  \n",
       "10033           4.0         False         2.0         2.0  \n",
       "10034           2.0         False         4.0         4.0  \n",
       "10035           4.0         False         2.0         2.0  \n",
       "10036           3.0         False         5.0         5.0  \n",
       "\n",
       "[10037 rows x 17 columns]"
      ]
     },
     "execution_count": 96,
     "metadata": {},
     "output_type": "execute_result"
    }
   ],
   "source": [
    "marketing"
   ]
  },
  {
   "cell_type": "markdown",
   "id": "42d7cb0d",
   "metadata": {},
   "source": [
    "# A/B test"
   ]
  },
  {
   "cell_type": "markdown",
   "id": "22fdf0e9",
   "metadata": {},
   "source": [
    "#### Test allocation"
   ]
  },
  {
   "cell_type": "code",
   "execution_count": 99,
   "id": "5df11b68",
   "metadata": {},
   "outputs": [
    {
     "data": {
      "text/plain": [
       "variant\n",
       "control            270\n",
       "personalization    284\n",
       "Name: user_id, dtype: int64"
      ]
     },
     "execution_count": 99,
     "metadata": {},
     "output_type": "execute_result"
    }
   ],
   "source": [
    "email = marketing[marketing['marketing_channel']=='Email']\n",
    "allocation = email.groupby('variant')['user_id'].nunique()\n",
    "allocation"
   ]
  },
  {
   "cell_type": "code",
   "execution_count": 98,
   "id": "1fff72e2",
   "metadata": {},
   "outputs": [
    {
     "data": {
      "image/png": "[encoded data removed]",
      "text/plain": [
       "<Figure size 432x288 with 1 Axes>"
      ]
     },
     "metadata": {
      "needs_background": "light"
     },
     "output_type": "display_data"
    }
   ],
   "source": [
    "allocation.plot(kind='bar')\n",
    "plt.title('Personalization test allocation')\n",
    "plt.xticks(rotation= 0)\n",
    "plt.ylabel('# participants')\n",
    "plt.show()"
   ]
  },
  {
   "cell_type": "code",
   "execution_count": 103,
   "id": "cda9d036",
   "metadata": {},
   "outputs": [
    {
     "data": {
      "text/html": [
       "<div>\n",
       "<style scoped>\n",
       "    .dataframe tbody tr th:only-of-type {\n",
       "        vertical-align: middle;\n",
       "    }\n",
       "\n",
       "    .dataframe tbody tr th {\n",
       "        vertical-align: top;\n",
       "    }\n",
       "\n",
       "    .dataframe thead th {\n",
       "        text-align: right;\n",
       "    }\n",
       "</style>\n",
       "<table border=\"1\" class=\"dataframe\">\n",
       "  <thead>\n",
       "    <tr style=\"text-align: right;\">\n",
       "      <th>variant</th>\n",
       "      <th>control</th>\n",
       "      <th>personalization</th>\n",
       "    </tr>\n",
       "    <tr>\n",
       "      <th>user_id</th>\n",
       "      <th></th>\n",
       "      <th></th>\n",
       "    </tr>\n",
       "  </thead>\n",
       "  <tbody>\n",
       "    <tr>\n",
       "      <th>a100000526</th>\n",
       "      <td>NaN</td>\n",
       "      <td>True</td>\n",
       "    </tr>\n",
       "    <tr>\n",
       "      <th>a100000530</th>\n",
       "      <td>NaN</td>\n",
       "      <td>True</td>\n",
       "    </tr>\n",
       "    <tr>\n",
       "      <th>a100000534</th>\n",
       "      <td>NaN</td>\n",
       "      <td>False</td>\n",
       "    </tr>\n",
       "    <tr>\n",
       "      <th>a100000538</th>\n",
       "      <td>NaN</td>\n",
       "      <td>True</td>\n",
       "    </tr>\n",
       "    <tr>\n",
       "      <th>a100000542</th>\n",
       "      <td>NaN</td>\n",
       "      <td>True</td>\n",
       "    </tr>\n",
       "    <tr>\n",
       "      <th>...</th>\n",
       "      <td>...</td>\n",
       "      <td>...</td>\n",
       "    </tr>\n",
       "    <tr>\n",
       "      <th>a100007288</th>\n",
       "      <td>True</td>\n",
       "      <td>NaN</td>\n",
       "    </tr>\n",
       "    <tr>\n",
       "      <th>a100007289</th>\n",
       "      <td>True</td>\n",
       "      <td>NaN</td>\n",
       "    </tr>\n",
       "    <tr>\n",
       "      <th>a100007290</th>\n",
       "      <td>True</td>\n",
       "      <td>NaN</td>\n",
       "    </tr>\n",
       "    <tr>\n",
       "      <th>a100007291</th>\n",
       "      <td>True</td>\n",
       "      <td>NaN</td>\n",
       "    </tr>\n",
       "    <tr>\n",
       "      <th>a100007293</th>\n",
       "      <td>True</td>\n",
       "      <td>NaN</td>\n",
       "    </tr>\n",
       "  </tbody>\n",
       "</table>\n",
       "<p>553 rows × 2 columns</p>\n",
       "</div>"
      ],
      "text/plain": [
       "variant    control personalization\n",
       "user_id                           \n",
       "a100000526     NaN            True\n",
       "a100000530     NaN            True\n",
       "a100000534     NaN           False\n",
       "a100000538     NaN            True\n",
       "a100000542     NaN            True\n",
       "...            ...             ...\n",
       "a100007288    True             NaN\n",
       "a100007289    True             NaN\n",
       "a100007290    True             NaN\n",
       "a100007291    True             NaN\n",
       "a100007293    True             NaN\n",
       "\n",
       "[553 rows x 2 columns]"
      ]
     },
     "execution_count": 103,
     "metadata": {},
     "output_type": "execute_result"
    }
   ],
   "source": [
    "#group by user_id and variant\n",
    "subscribers = email.groupby(['user_id','variant'])['converted'].max()\n",
    "subscribers = pd.DataFrame(subscribers.unstack(level=1))\n",
    "subscribers"
   ]
  },
  {
   "cell_type": "code",
   "execution_count": 101,
   "id": "8e16ca0c",
   "metadata": {},
   "outputs": [],
   "source": [
    "control = subscribers['control'].dropna()"
   ]
  },
  {
   "cell_type": "code",
   "execution_count": 102,
   "id": "7213bdf7",
   "metadata": {},
   "outputs": [],
   "source": [
    "personalization = subscribers['personalization'].dropna()"
   ]
  },
  {
   "cell_type": "code",
   "execution_count": null,
   "id": "bc5c9f08",
   "metadata": {},
   "outputs": [],
   "source": []
  }
 ],
 "metadata": {
  "kernelspec": {
   "display_name": "Python 3 (ipykernel)",
   "language": "python",
   "name": "python3"
  },
  "language_info": {
   "codemirror_mode": {
    "name": "ipython",
    "version": 3
   },
   "file_extension": ".py",
   "mimetype": "text/x-python",
   "name": "python",
   "nbconvert_exporter": "python",
   "pygments_lexer": "ipython3",
   "version": "3.9.7"
  }
 },
 "nbformat": 4,
 "nbformat_minor": 5
}
